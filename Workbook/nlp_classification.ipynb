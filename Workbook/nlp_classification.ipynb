{
 "cells": [
  {
   "attachments": {},
   "cell_type": "markdown",
   "metadata": {},
   "source": [
    "# <p style=\"font-family:JetBrains Mono; letter-spacing: 1px; color:#207d06; font-size:120%; text-align:left; border-bottom: 3px solid #207d06;\">A PREDICTIVE NATURAL LANGUAGE PROCESSING MODEL </p>\n",
    "\n",
    "## <p style=\"font-family:JetBrains Mono; letter-spacing: 1px; color:#8fca6b; text-align:left; border-bottom: 1px solid #207d06;\">Lighthouse Labs, Mini-Project V: Identifying Duplicate Questions</p>\n",
    "<p style=\"font-family:JetBrains Mono; letter-spacing: 1px; color:#8fca6b; font-size:110%; text-align:left;\">By Jamie Dormaar, January 31, 2023.</p>  \n"
   ]
  },
  {
   "attachments": {},
   "cell_type": "markdown",
   "metadata": {},
   "source": [
    "Over 100 million people visit Quora every month, so it's no surprise that many people ask similar (or the same) questions. Various questions with the same intent can cause people to spend extra time searching for the best answer to their question, and results in members answering multiple versions of the same question. Quora uses random forest to identify duplicated questions to provide a better experience to active seekers and writers, and offer more value to both of these groups in the long term.\n",
    "Follow the steps outlined below to build the appropriate classifier model. \n",
    "\n",
    "## <p style=\"font-family:JetBrains Mono; font-weight:normal; letter-spacing: 1px; color:#207d06; font-size:100%; text-align:left;padding: 0px; border-bottom: 3px solid #207d06;\">TABLE OF CONTENTS</p>\n",
    "- [DOWNLOAD DATA](#download-data)\n",
    "- [EXPLORATION](#exploration)\n",
    "- [DATA CLEANING](#data-cleaning)\n",
    "  - [CUSTOM MODULE](#custom-module)\n",
    "- [PREPROCESS DATA](#preprocess-data)\n",
    "- [FEATURE ENGINEERING](#feature-engineering)\n",
    "  - [NLP REPRESENTATIONS](#nlp-representations)\n",
    "    - [BOW](#bow)\n",
    "    - [TF-IDF](#tf-idf)\n",
    "    - [WORD2VEC](#word2vec)\n",
    "    - [SENTIMENT ANALYSIS](#sentiment-analysis)\n",
    "- [MODELING](#modeling)\n",
    "  - [SPLITTING DATA](#splitting-data)\n",
    "  - [MODEL TRAINING](#model-training)\n",
    "  - [MODEL EVALUATION](#model-evaluation)\n",
    "  - [TUNE HYPERPARAMETERS](#tune-hyperparameters)\n",
    "- [RESULTS](#results)\n",
    "- [DISCUSSION](#discussion)\n",
    "\n",
    "By the end of this project you should have **a presentation that describes the model you built** and its **performance**. \n",
    "<!--\n",
    "<p style=\"font-family:JetBrains Mono; font-weight:normal; letter-spacing: 0px; color:#207d06;\">DOWNLOAD DATA</p>\n",
    "<p style=\"font-family:JetBrains Mono; font-weight:normal; letter-spacing: 0px; color:#207d06;\">EXPLORATION</p>\n",
    "<p style=\"font-family:JetBrains Mono; font-weight:normal; letter-spacing: 0px; color:#207d06;\">DATA CLEANING</p>\n",
    "<p style=\"font-family:JetBrains Mono; font-weight:normal; letter-spacing: 0px; color:#8fca6b;\">CUSTOM MODULE</p>\n",
    "<p style=\"font-family:JetBrains Mono; font-weight:normal; letter-spacing: 0px; color:#207d06;\">PREPROCESS DATA</p>\n",
    "<p style=\"font-family:JetBrains Mono; font-weight:normal; letter-spacing: 0px; color:#207d06;\">FEATURE ENGINEERING</p>\n",
    "<p style=\"font-family:JetBrains Mono; font-weight:normal; letter-spacing: 0px; color:#8fca6b;\">NLP REPRESENTATIONS</p>\n",
    "<p style=\"font-family:JetBrains Mono; font-weight:normal; letter-spacing: 0px; color:#c8d43e;\">BOW</p>\n",
    "<p style=\"font-family:JetBrains Mono; font-weight:normal; letter-spacing: 0px; color:#c8d43e;\">TF-IDF</p>\n",
    "<p style=\"font-family:JetBrains Mono; font-weight:normal; letter-spacing: 0px; color:#c8d43e;\">WORD2VEC</p>\n",
    "<p style=\"font-family:JetBrains Mono; font-weight:normal; letter-spacing: 0px; color:#c8d43e;\">SENTIMENT ANALYSIS</p>\n",
    "<p style=\"font-family:JetBrains Mono; font-weight:normal; letter-spacing: 0px; color:#207d06;\">MODELING</p>\n",
    "<p style=\"font-family:JetBrains Mono; font-weight:normal; letter-spacing: 0px; color:#8fca6b;\">SPLITTING DATA</p>\n",
    "<p style=\"font-family:JetBrains Mono; font-weight:normal; letter-spacing: 0px; color:#8fca6b;\">MODEL TRAINING</p>\n",
    "<p style=\"font-family:JetBrains Mono; font-weight:normal; letter-spacing: 0px; color:#8fca6b;\">MODEL EVALUATION</p>\n",
    "<p style=\"font-family:JetBrains Mono; font-weight:normal; letter-spacing: 0px; color:#8fca6b;\">TUNE HYPERPARAMETERS</p>\n",
    "\n",
    "Doc Headers:\n",
    "## <p style=\"font-family:JetBrains Mono; font-weight:normal; letter-spacing: 1px; color:#207d06; font-size:100%; text-align:left;padding: 0px; border-bottom: 3px solid #207d06;\">DOWNLOAD DATA</p>\n",
    "## <p style=\"font-family:JetBrains Mono; font-weight:normal; letter-spacing: 1px; color:#207d06; font-size:100%; text-align:left;padding: 0px; border-bottom: 3px solid #207d06;\">EXPLORATION</p>\n",
    "## <p style=\"font-family:JetBrains Mono; font-weight:normal; letter-spacing: 1px; color:#207d06; font-size:100%; text-align:left;padding: 0px; border-bottom: 3px solid #207d06;\">DATA CLEANING</p>\n",
    "### <p style=\"font-family:JetBrains Mono; font-weight:normal; letter-spacing: 1px; color:#8fca6b; font-size:100%; text-align:left;padding: 0px; border-bottom: 2px solid #8fca6b;\">CUSTOM MODULE</p>\n",
    "## <p style=\"font-family:JetBrains Mono; font-weight:normal; letter-spacing: 1px; color:#207d06; font-size:100%; text-align:left;padding: 0px; border-bottom: 3px solid #207d06;\">PREPROCESS DATA</p>\n",
    "## <p style=\"font-family:JetBrains Mono; font-weight:normal; letter-spacing: 1px; color:#207d06; font-size:100%; text-align:left;padding: 0px; border-bottom: 3px solid #207d06;\">FEATURE ENGINEERING</p>\n",
    "### <p style=\"font-family:JetBrains Mono; font-weight:normal; letter-spacing: 1px; color:#8fca6b; font-size:100%; text-align:left;padding: 0px; border-bottom: 2px solid #8fca6b;\">NLP REPRESENTATIONS</p>\n",
    "#### <p style=\"font-family:JetBrains Mono; font-weight:normal; letter-spacing: 1px; color:#c8d43e; font-size:100%; text-align:left;padding: 0px; border-bottom: 1px solid #c8d43e;\">BOW</p>\n",
    "#### <p style=\"font-family:JetBrains Mono; font-weight:normal; letter-spacing: 1px; color:#c8d43e; font-size:100%; text-align:left;padding: 0px; border-bottom: 1px solid #c8d43e;\">TF-IDF</p>\n",
    "#### <p style=\"font-family:JetBrains Mono; font-weight:normal; letter-spacing: 1px; color:#c8d43e; font-size:100%; text-align:left;padding: 0px; border-bottom: 1px solid #c8d43e;\">WORD2VEC</p>\n",
    "#### <p style=\"font-family:JetBrains Mono; font-weight:normal; letter-spacing: 1px; color:#c8d43e; font-size:100%; text-align:left;padding: 0px; border-bottom: 1px solid #c8d43e;\">SENTIMENT ANALYSIS</p>\n",
    "## <p style=\"font-family:JetBrains Mono; font-weight:normal; letter-spacing: 1px; color:#207d06; font-size:100%; text-align:left;padding: 0px; border-bottom: 3px solid #207d06;\">MODELING</p>\n",
    "### <p style=\"font-family:JetBrains Mono; font-weight:normal; letter-spacing: 1px; color:#8fca6b; font-size:100%; text-align:left;padding: 0px; border-bottom: 2px solid #8fca6b;\">SPLITTING DATA</p>\n",
    "### <p style=\"font-family:JetBrains Mono; font-weight:normal; letter-spacing: 1px; color:#8fca6b; font-size:100%; text-align:left;padding: 0px; border-bottom: 2px solid #8fca6b;\">MODEL TRAINING</p>\n",
    "### <p style=\"font-family:JetBrains Mono; font-weight:normal; letter-spacing: 1px; color:#8fca6b; font-size:100%; text-align:left;padding: 0px; border-bottom: 2px solid #8fca6b;\">MODEL EVALUATION</p>\n",
    "### <p style=\"font-family:JetBrains Mono; font-weight:normal; letter-spacing: 1px; color:#8fca6b; font-size:100%; text-align:left;padding: 0px; border-bottom: 2px solid #8fca6b;\">TUNE HYPERPARAMETERS</p>\n",
    "-->"
   ]
  },
  {
   "attachments": {},
   "cell_type": "markdown",
   "metadata": {},
   "source": [
    "##### <p style=\"font-family:JetBrains Mono; text-align:right; padding-right: 10%;\">[Top Of Page](#lighthouse-labs-mini-project-v-identifying-duplicate-questions) / [TOC](#table-of-contents)</p>"
   ]
  },
  {
   "attachments": {},
   "cell_type": "markdown",
   "metadata": {},
   "source": [
    "## <p style=\"font-family:JetBrains Mono; font-weight:normal; letter-spacing: 1px; color:#207d06; font-size:100%; text-align:left;padding: 0px; border-bottom: 3px solid #207d06;\">DOWNLOAD DATA</p>\n"
   ]
  },
  {
   "cell_type": "code",
   "execution_count": 188,
   "metadata": {},
   "outputs": [],
   "source": [
    "import pandas as pd\n",
    "data = pd.read_csv(\"../data/source materials/train.csv\")\n",
    "df = data.copy()"
   ]
  },
  {
   "attachments": {},
   "cell_type": "markdown",
   "metadata": {},
   "source": [
    ">Note: _There is no designated test.csv file. The train.csv file is the entire dataset. Part of the data in the train.csv file should be set aside to act as the final testing data._\n",
    "\n",
    "##### SAVE: raw data"
   ]
  },
  {
   "cell_type": "code",
   "execution_count": 189,
   "metadata": {},
   "outputs": [
    {
     "data": {
      "text/html": [
       "<div>\n",
       "<style scoped>\n",
       "    .dataframe tbody tr th:only-of-type {\n",
       "        vertical-align: middle;\n",
       "    }\n",
       "\n",
       "    .dataframe tbody tr th {\n",
       "        vertical-align: top;\n",
       "    }\n",
       "\n",
       "    .dataframe thead th {\n",
       "        text-align: right;\n",
       "    }\n",
       "</style>\n",
       "<table border=\"1\" class=\"dataframe\">\n",
       "  <thead>\n",
       "    <tr style=\"text-align: right;\">\n",
       "      <th></th>\n",
       "      <th>id</th>\n",
       "      <th>qid1</th>\n",
       "      <th>qid2</th>\n",
       "      <th>question1</th>\n",
       "      <th>question2</th>\n",
       "      <th>is_duplicate</th>\n",
       "    </tr>\n",
       "  </thead>\n",
       "  <tbody>\n",
       "    <tr>\n",
       "      <th>0</th>\n",
       "      <td>0</td>\n",
       "      <td>1</td>\n",
       "      <td>2</td>\n",
       "      <td>What is the step by step guide to invest in sh...</td>\n",
       "      <td>What is the step by step guide to invest in sh...</td>\n",
       "      <td>0</td>\n",
       "    </tr>\n",
       "    <tr>\n",
       "      <th>1</th>\n",
       "      <td>1</td>\n",
       "      <td>3</td>\n",
       "      <td>4</td>\n",
       "      <td>What is the story of Kohinoor (Koh-i-Noor) Dia...</td>\n",
       "      <td>What would happen if the Indian government sto...</td>\n",
       "      <td>0</td>\n",
       "    </tr>\n",
       "    <tr>\n",
       "      <th>2</th>\n",
       "      <td>2</td>\n",
       "      <td>5</td>\n",
       "      <td>6</td>\n",
       "      <td>How can I increase the speed of my internet co...</td>\n",
       "      <td>How can Internet speed be increased by hacking...</td>\n",
       "      <td>0</td>\n",
       "    </tr>\n",
       "    <tr>\n",
       "      <th>3</th>\n",
       "      <td>3</td>\n",
       "      <td>7</td>\n",
       "      <td>8</td>\n",
       "      <td>Why am I mentally very lonely? How can I solve...</td>\n",
       "      <td>Find the remainder when [math]23^{24}[/math] i...</td>\n",
       "      <td>0</td>\n",
       "    </tr>\n",
       "    <tr>\n",
       "      <th>4</th>\n",
       "      <td>4</td>\n",
       "      <td>9</td>\n",
       "      <td>10</td>\n",
       "      <td>Which one dissolve in water quikly sugar, salt...</td>\n",
       "      <td>Which fish would survive in salt water?</td>\n",
       "      <td>0</td>\n",
       "    </tr>\n",
       "  </tbody>\n",
       "</table>\n",
       "</div>"
      ],
      "text/plain": [
       "   id  qid1  qid2                                          question1  \\\n",
       "0   0     1     2  What is the step by step guide to invest in sh...   \n",
       "1   1     3     4  What is the story of Kohinoor (Koh-i-Noor) Dia...   \n",
       "2   2     5     6  How can I increase the speed of my internet co...   \n",
       "3   3     7     8  Why am I mentally very lonely? How can I solve...   \n",
       "4   4     9    10  Which one dissolve in water quikly sugar, salt...   \n",
       "\n",
       "                                           question2  is_duplicate  \n",
       "0  What is the step by step guide to invest in sh...             0  \n",
       "1  What would happen if the Indian government sto...             0  \n",
       "2  How can Internet speed be increased by hacking...             0  \n",
       "3  Find the remainder when [math]23^{24}[/math] i...             0  \n",
       "4            Which fish would survive in salt water?             0  "
      ]
     },
     "execution_count": 189,
     "metadata": {},
     "output_type": "execute_result"
    }
   ],
   "source": [
    "data.to_csv('../data/df_raw.csv', index=False)\n",
    "df.head()"
   ]
  },
  {
   "attachments": {},
   "cell_type": "markdown",
   "metadata": {},
   "source": [
    "##### <p style=\"font-family:JetBrains Mono; text-align:right; padding-right: 10%;\">[Top Of Page](#lighthouse-labs-mini-project-v-identifying-duplicate-questions) / [TOC](#table-of-contents)</p>"
   ]
  },
  {
   "attachments": {},
   "cell_type": "markdown",
   "metadata": {},
   "source": [
    "## <p style=\"font-family:JetBrains Mono; font-weight:normal; letter-spacing: 1px; color:#207d06; font-size:100%; text-align:left;padding: 0px; border-bottom: 3px solid #207d06;\">EXPLORATION</p>"
   ]
  },
  {
   "cell_type": "code",
   "execution_count": 190,
   "metadata": {},
   "outputs": [
    {
     "data": {
      "text/plain": [
       "(404290, 6)"
      ]
     },
     "execution_count": 190,
     "metadata": {},
     "output_type": "execute_result"
    }
   ],
   "source": [
    "df.shape"
   ]
  },
  {
   "cell_type": "code",
   "execution_count": 191,
   "metadata": {},
   "outputs": [
    {
     "data": {
      "text/html": [
       "<div>\n",
       "<style scoped>\n",
       "    .dataframe tbody tr th:only-of-type {\n",
       "        vertical-align: middle;\n",
       "    }\n",
       "\n",
       "    .dataframe tbody tr th {\n",
       "        vertical-align: top;\n",
       "    }\n",
       "\n",
       "    .dataframe thead th {\n",
       "        text-align: right;\n",
       "    }\n",
       "</style>\n",
       "<table border=\"1\" class=\"dataframe\">\n",
       "  <thead>\n",
       "    <tr style=\"text-align: right;\">\n",
       "      <th></th>\n",
       "      <th>question1</th>\n",
       "      <th>question2</th>\n",
       "    </tr>\n",
       "  </thead>\n",
       "  <tbody>\n",
       "    <tr>\n",
       "      <th>0</th>\n",
       "      <td>Astrology: I am a Capricorn Sun Cap moon and c...</td>\n",
       "      <td>I'm a triple Capricorn (Sun, Moon and ascendan...</td>\n",
       "    </tr>\n",
       "    <tr>\n",
       "      <th>1</th>\n",
       "      <td>How can I be a good geologist?</td>\n",
       "      <td>What should I do to be a great geologist?</td>\n",
       "    </tr>\n",
       "    <tr>\n",
       "      <th>2</th>\n",
       "      <td>How do I read and find my YouTube comments?</td>\n",
       "      <td>How can I see all my Youtube comments?</td>\n",
       "    </tr>\n",
       "    <tr>\n",
       "      <th>3</th>\n",
       "      <td>What can make Physics easy to learn?</td>\n",
       "      <td>How can you make physics easy to learn?</td>\n",
       "    </tr>\n",
       "    <tr>\n",
       "      <th>4</th>\n",
       "      <td>What was your first sexual experience like?</td>\n",
       "      <td>What was your first sexual experience?</td>\n",
       "    </tr>\n",
       "  </tbody>\n",
       "</table>\n",
       "</div>"
      ],
      "text/plain": [
       "                                           question1  \\\n",
       "0  Astrology: I am a Capricorn Sun Cap moon and c...   \n",
       "1                     How can I be a good geologist?   \n",
       "2        How do I read and find my YouTube comments?   \n",
       "3               What can make Physics easy to learn?   \n",
       "4        What was your first sexual experience like?   \n",
       "\n",
       "                                           question2  \n",
       "0  I'm a triple Capricorn (Sun, Moon and ascendan...  \n",
       "1          What should I do to be a great geologist?  \n",
       "2             How can I see all my Youtube comments?  \n",
       "3            How can you make physics easy to learn?  \n",
       "4             What was your first sexual experience?  "
      ]
     },
     "metadata": {},
     "output_type": "display_data"
    },
    {
     "data": {
      "text/html": [
       "<div>\n",
       "<style scoped>\n",
       "    .dataframe tbody tr th:only-of-type {\n",
       "        vertical-align: middle;\n",
       "    }\n",
       "\n",
       "    .dataframe tbody tr th {\n",
       "        vertical-align: top;\n",
       "    }\n",
       "\n",
       "    .dataframe thead th {\n",
       "        text-align: right;\n",
       "    }\n",
       "</style>\n",
       "<table border=\"1\" class=\"dataframe\">\n",
       "  <thead>\n",
       "    <tr style=\"text-align: right;\">\n",
       "      <th></th>\n",
       "      <th>question1</th>\n",
       "      <th>question2</th>\n",
       "    </tr>\n",
       "  </thead>\n",
       "  <tbody>\n",
       "    <tr>\n",
       "      <th>0</th>\n",
       "      <td>What is the step by step guide to invest in sh...</td>\n",
       "      <td>What is the step by step guide to invest in sh...</td>\n",
       "    </tr>\n",
       "    <tr>\n",
       "      <th>1</th>\n",
       "      <td>What is the story of Kohinoor (Koh-i-Noor) Dia...</td>\n",
       "      <td>What would happen if the Indian government sto...</td>\n",
       "    </tr>\n",
       "    <tr>\n",
       "      <th>2</th>\n",
       "      <td>How can I increase the speed of my internet co...</td>\n",
       "      <td>How can Internet speed be increased by hacking...</td>\n",
       "    </tr>\n",
       "    <tr>\n",
       "      <th>3</th>\n",
       "      <td>Why am I mentally very lonely? How can I solve...</td>\n",
       "      <td>Find the remainder when [math]23^{24}[/math] i...</td>\n",
       "    </tr>\n",
       "    <tr>\n",
       "      <th>4</th>\n",
       "      <td>Which one dissolve in water quikly sugar, salt...</td>\n",
       "      <td>Which fish would survive in salt water?</td>\n",
       "    </tr>\n",
       "  </tbody>\n",
       "</table>\n",
       "</div>"
      ],
      "text/plain": [
       "                                           question1  \\\n",
       "0  What is the step by step guide to invest in sh...   \n",
       "1  What is the story of Kohinoor (Koh-i-Noor) Dia...   \n",
       "2  How can I increase the speed of my internet co...   \n",
       "3  Why am I mentally very lonely? How can I solve...   \n",
       "4  Which one dissolve in water quikly sugar, salt...   \n",
       "\n",
       "                                           question2  \n",
       "0  What is the step by step guide to invest in sh...  \n",
       "1  What would happen if the Indian government sto...  \n",
       "2  How can Internet speed be increased by hacking...  \n",
       "3  Find the remainder when [math]23^{24}[/math] i...  \n",
       "4            Which fish would survive in salt water?  "
      ]
     },
     "metadata": {},
     "output_type": "display_data"
    }
   ],
   "source": [
    "q_dups = df[df['is_duplicate'] > 0].copy()\n",
    "q_difs = df[df['is_duplicate']== 0].copy()\n",
    "\n",
    "q_dups.reset_index(drop=True, inplace=True)\n",
    "q_difs.reset_index(drop=True, inplace=True)\n",
    "\n",
    "display(q_dups[['question1', 'question2']].head())\n",
    "display(q_difs[['question1', 'question2']].head())"
   ]
  },
  {
   "cell_type": "code",
   "execution_count": 192,
   "metadata": {},
   "outputs": [
    {
     "data": {
      "text/html": [
       "<div>\n",
       "<style scoped>\n",
       "    .dataframe tbody tr th:only-of-type {\n",
       "        vertical-align: middle;\n",
       "    }\n",
       "\n",
       "    .dataframe tbody tr th {\n",
       "        vertical-align: top;\n",
       "    }\n",
       "\n",
       "    .dataframe thead th {\n",
       "        text-align: right;\n",
       "    }\n",
       "</style>\n",
       "<table border=\"1\" class=\"dataframe\">\n",
       "  <thead>\n",
       "    <tr style=\"text-align: right;\">\n",
       "      <th></th>\n",
       "      <th>id</th>\n",
       "      <th>qid1</th>\n",
       "      <th>qid2</th>\n",
       "      <th>question1</th>\n",
       "      <th>question2</th>\n",
       "      <th>is_duplicate</th>\n",
       "    </tr>\n",
       "  </thead>\n",
       "  <tbody>\n",
       "    <tr>\n",
       "      <th>0</th>\n",
       "      <td>0</td>\n",
       "      <td>1</td>\n",
       "      <td>2</td>\n",
       "      <td>What is the step by step guide to invest in sh...</td>\n",
       "      <td>What is the step by step guide to invest in sh...</td>\n",
       "      <td>0</td>\n",
       "    </tr>\n",
       "    <tr>\n",
       "      <th>1</th>\n",
       "      <td>1</td>\n",
       "      <td>3</td>\n",
       "      <td>4</td>\n",
       "      <td>What is the story of Kohinoor (Koh-i-Noor) Dia...</td>\n",
       "      <td>What would happen if the Indian government sto...</td>\n",
       "      <td>0</td>\n",
       "    </tr>\n",
       "    <tr>\n",
       "      <th>2</th>\n",
       "      <td>2</td>\n",
       "      <td>5</td>\n",
       "      <td>6</td>\n",
       "      <td>How can I increase the speed of my internet co...</td>\n",
       "      <td>How can Internet speed be increased by hacking...</td>\n",
       "      <td>0</td>\n",
       "    </tr>\n",
       "    <tr>\n",
       "      <th>3</th>\n",
       "      <td>3</td>\n",
       "      <td>7</td>\n",
       "      <td>8</td>\n",
       "      <td>Why am I mentally very lonely? How can I solve...</td>\n",
       "      <td>Find the remainder when [math]23^{24}[/math] i...</td>\n",
       "      <td>0</td>\n",
       "    </tr>\n",
       "    <tr>\n",
       "      <th>4</th>\n",
       "      <td>4</td>\n",
       "      <td>9</td>\n",
       "      <td>10</td>\n",
       "      <td>Which one dissolve in water quikly sugar, salt...</td>\n",
       "      <td>Which fish would survive in salt water?</td>\n",
       "      <td>0</td>\n",
       "    </tr>\n",
       "  </tbody>\n",
       "</table>\n",
       "</div>"
      ],
      "text/plain": [
       "   id  qid1  qid2                                          question1  \\\n",
       "0   0     1     2  What is the step by step guide to invest in sh...   \n",
       "1   1     3     4  What is the story of Kohinoor (Koh-i-Noor) Dia...   \n",
       "2   2     5     6  How can I increase the speed of my internet co...   \n",
       "3   3     7     8  Why am I mentally very lonely? How can I solve...   \n",
       "4   4     9    10  Which one dissolve in water quikly sugar, salt...   \n",
       "\n",
       "                                           question2  is_duplicate  \n",
       "0  What is the step by step guide to invest in sh...             0  \n",
       "1  What would happen if the Indian government sto...             0  \n",
       "2  How can Internet speed be increased by hacking...             0  \n",
       "3  Find the remainder when [math]23^{24}[/math] i...             0  \n",
       "4            Which fish would survive in salt water?             0  "
      ]
     },
     "execution_count": 192,
     "metadata": {},
     "output_type": "execute_result"
    }
   ],
   "source": [
    "\n",
    "# tag = ''   # For save id if needed:\n",
    "tag = '_q_difs'\n",
    "# tag = '_q_dups'\n",
    "\n",
    "# df = q_dups.copy()\n",
    "df = q_difs.copy()\n",
    "\n",
    "df.head()"
   ]
  },
  {
   "cell_type": "code",
   "execution_count": 193,
   "metadata": {},
   "outputs": [
    {
     "name": "stdout",
     "output_type": "stream",
     "text": [
      "question1 unique entries: 212770\n",
      "        Percent of total: 0.83\n",
      "\n",
      "question2 unique entries: 221130\n",
      "        Percent of total: 0.87\n",
      "\n"
     ]
    }
   ],
   "source": [
    "# df[df['qid1']==15]\n",
    "n_q1 = df['question1'].nunique()\n",
    "n_q2 = df['question2'].nunique()\n",
    "\n",
    "print(f'question1 unique entries: {n_q1}\\n        Percent of total: {round(n_q1/df.shape[0], 2)}\\n')\n",
    "print(f'question2 unique entries: {n_q2}\\n        Percent of total: {round(n_q2/df.shape[0], 2)}\\n')"
   ]
  },
  {
   "attachments": {},
   "cell_type": "markdown",
   "metadata": {},
   "source": [
    "##### <p style=\"font-family:JetBrains Mono; text-align:right; padding-right: 10%;\">[Top Of Page](#lighthouse-labs-mini-project-v-identifying-duplicate-questions) / [TOC](#table-of-contents)</p>"
   ]
  },
  {
   "attachments": {},
   "cell_type": "markdown",
   "metadata": {},
   "source": [
    "## <p style=\"font-family:JetBrains Mono; font-weight:normal; letter-spacing: 1px; color:#207d06; font-size:100%; text-align:left;padding: 0px; border-bottom: 3px solid #207d06;\">DATA CLEANING</p>\n"
   ]
  },
  {
   "cell_type": "markdown",
   "metadata": {},
   "source": [
    "### Cleaning\n",
    "\n",
    "- Tokenization\n",
    "- Stopwords cleaning\n",
    "- Removing punctuation\n",
    "- Normalizing\n",
    "- Stemming"
   ]
  },
  {
   "cell_type": "code",
   "execution_count": 194,
   "metadata": {},
   "outputs": [],
   "source": [
    "import numpy as np\n",
    "import pandas as pd\n",
    "import re # regex\n",
    "import nltk"
   ]
  },
  {
   "attachments": {},
   "cell_type": "markdown",
   "metadata": {},
   "source": [
    "##### <p style=\"font-family:JetBrains Mono; text-align:right; padding-right: 10%;\">[Top Of Page](#lighthouse-labs-mini-project-v-identifying-duplicate-questions) / [TOC](#table-of-contents)</p>"
   ]
  },
  {
   "attachments": {},
   "cell_type": "markdown",
   "metadata": {},
   "source": [
    "### <p style=\"font-family:JetBrains Mono; font-weight:normal; letter-spacing: 1px; color:#8fca6b; font-size:100%; text-align:left;padding: 0px; border-bottom: 2px solid #8fca6b;\">CUSTOM MODULE</p>\n",
    "\n",
    "\n",
    "The following functions are contained within a custom module created for modular reuse.\n",
    "\n",
    ">```py\n",
    ">import numpy as np\n",
    ">import pandas as pd\n",
    ">import re # regex\n",
    ">import string\n",
    ">import nltk\n",
    ">from nltk.tokenize import word_tokenize\n",
    ">from nltk.corpus import stopwords\n",
    ">from nltk.stem.porter import PorterStemmer\n",
    ">\n",
    ">def tokenize(text):\n",
    ">    tokens = word_tokenize(text)\n",
    ">    return tokens\n",
    ">\n",
    ">def alphabetic_filter(stripped):\n",
    ">    words = [word for word in stripped if word.isalpha()]\n",
    ">    return words\n",
    ">\n",
    ">def stemming(words):\n",
    ">    ps = PorterStemmer()\n",
    ">    stemmed = [ps.stem(word) for word in words]\n",
    ">    return stemmed\n",
    ">\n",
    ">def remove_stopwords(words):\n",
    ">    stop_words = set(stopwords.words('english'))\n",
    ">    clean_text = [w for w in words if not w in stop_words]\n",
    ">    return clean_text\n",
    ">\n",
    ">def preprocess(text, output_list=True):\n",
    ">    text = tokenize(text)\n",
    ">    text = alphabetic_filter(text)\n",
    ">    text = stemming(text)\n",
    ">    text = remove_stopwords(text)\n",
    ">    if output_list==False:\n",
    ">        text = \" \".join([word for word in text])\n",
    ">    return text\n",
    ">\n",
    ">def text_cleaning_regex(features):\n",
    ">    \"\"\"function takes in an iterable of string data types, and using\n",
    ">    regex module successively:\n",
    ">        - Removes all the special characters.\n",
    ">        - Removes all single characters.\n",
    ">        - Removes single characters from the start.\n",
    ">        - Substitutes multiple spaces with single space.\n",
    ">        - Converts all text to lowercase.\n",
    ">\n",
    ">    Args:\n",
    ">        features (iterable): an array or list. Example: df['col']\n",
    ">    \"\"\"\n",
    ">    processed_features = []\n",
    ">    for sentence in range(0, len(features)):\n",
    ">        # Remove all the special characters\n",
    ">        alt_text = re.sub(r'\\W', ' ', str(features[sentence]))\n",
    ">\n",
    ">        # remove all single characters\n",
    ">        alt_text= re.sub(r'\\s+[a-zA-Z]\\s+', ' ', alt_text)\n",
    ">\n",
    ">        # Remove single characters from the start\n",
    ">        alt_text = re.sub(r'\\^[a-zA-Z]\\s+', ' ', alt_text)\n",
    ">\n",
    ">        # Substituting multiple spaces with single space\n",
    ">        alt_text = re.sub(r'\\s+', ' ', alt_text, flags=re.I)\n",
    ">\n",
    ">        # Removing prefixed 'b'\n",
    ">        alt_text = re.sub(r'^b\\s+', '', alt_text)\n",
    ">\n",
    ">        # Converting to Lowercase\n",
    ">        alt_text = alt_text.lower()\n",
    ">        processed_features.append(alt_text)\n",
    ">\n",
    ">    print(f'''\n",
    ">    Removed special characters:\n",
    ">    Removed single characters\n",
    ">    Standardization to lowercase\\n''')\n",
    ">    return processed_features\n",
    ">```"
   ]
  },
  {
   "attachments": {},
   "cell_type": "markdown",
   "metadata": {},
   "source": [
    "Module is accessed just like any usual setup importing the necessary packages.  For example:\n",
    ">```py\n",
    ">import nlp_data_prep as nlp\n",
    ">nlp.text_cleaning_regex(...)\n",
    ">```"
   ]
  },
  {
   "attachments": {},
   "cell_type": "markdown",
   "metadata": {},
   "source": [
    "[W9D2m4](../../../Documents/LHL%20DS%20Bootcamp/Course%20work/W9/W9D2m4_kaggle_sentiment-analysis-airline-tweets.ipynb)\n"
   ]
  },
  {
   "cell_type": "code",
   "execution_count": 195,
   "metadata": {},
   "outputs": [],
   "source": [
    "import nlp_data_prep as nlp"
   ]
  },
  {
   "cell_type": "code",
   "execution_count": 196,
   "metadata": {},
   "outputs": [
    {
     "data": {
      "text/html": [
       "<div>\n",
       "<style scoped>\n",
       "    .dataframe tbody tr th:only-of-type {\n",
       "        vertical-align: middle;\n",
       "    }\n",
       "\n",
       "    .dataframe tbody tr th {\n",
       "        vertical-align: top;\n",
       "    }\n",
       "\n",
       "    .dataframe thead th {\n",
       "        text-align: right;\n",
       "    }\n",
       "</style>\n",
       "<table border=\"1\" class=\"dataframe\">\n",
       "  <thead>\n",
       "    <tr style=\"text-align: right;\">\n",
       "      <th></th>\n",
       "      <th>id</th>\n",
       "      <th>qid1</th>\n",
       "      <th>qid2</th>\n",
       "      <th>question1</th>\n",
       "      <th>question2</th>\n",
       "      <th>is_duplicate</th>\n",
       "    </tr>\n",
       "  </thead>\n",
       "  <tbody>\n",
       "    <tr>\n",
       "      <th>0</th>\n",
       "      <td>0</td>\n",
       "      <td>1</td>\n",
       "      <td>2</td>\n",
       "      <td>What is the step by step guide to invest in sh...</td>\n",
       "      <td>What is the step by step guide to invest in sh...</td>\n",
       "      <td>0</td>\n",
       "    </tr>\n",
       "    <tr>\n",
       "      <th>1</th>\n",
       "      <td>1</td>\n",
       "      <td>3</td>\n",
       "      <td>4</td>\n",
       "      <td>What is the story of Kohinoor (Koh-i-Noor) Dia...</td>\n",
       "      <td>What would happen if the Indian government sto...</td>\n",
       "      <td>0</td>\n",
       "    </tr>\n",
       "    <tr>\n",
       "      <th>2</th>\n",
       "      <td>2</td>\n",
       "      <td>5</td>\n",
       "      <td>6</td>\n",
       "      <td>How can I increase the speed of my internet co...</td>\n",
       "      <td>How can Internet speed be increased by hacking...</td>\n",
       "      <td>0</td>\n",
       "    </tr>\n",
       "    <tr>\n",
       "      <th>3</th>\n",
       "      <td>3</td>\n",
       "      <td>7</td>\n",
       "      <td>8</td>\n",
       "      <td>Why am I mentally very lonely? How can I solve...</td>\n",
       "      <td>Find the remainder when [math]23^{24}[/math] i...</td>\n",
       "      <td>0</td>\n",
       "    </tr>\n",
       "    <tr>\n",
       "      <th>4</th>\n",
       "      <td>4</td>\n",
       "      <td>9</td>\n",
       "      <td>10</td>\n",
       "      <td>Which one dissolve in water quikly sugar, salt...</td>\n",
       "      <td>Which fish would survive in salt water?</td>\n",
       "      <td>0</td>\n",
       "    </tr>\n",
       "  </tbody>\n",
       "</table>\n",
       "</div>"
      ],
      "text/plain": [
       "   id  qid1  qid2                                          question1  \\\n",
       "0   0     1     2  What is the step by step guide to invest in sh...   \n",
       "1   1     3     4  What is the story of Kohinoor (Koh-i-Noor) Dia...   \n",
       "2   2     5     6  How can I increase the speed of my internet co...   \n",
       "3   3     7     8  Why am I mentally very lonely? How can I solve...   \n",
       "4   4     9    10  Which one dissolve in water quikly sugar, salt...   \n",
       "\n",
       "                                           question2  is_duplicate  \n",
       "0  What is the step by step guide to invest in sh...             0  \n",
       "1  What would happen if the Indian government sto...             0  \n",
       "2  How can Internet speed be increased by hacking...             0  \n",
       "3  Find the remainder when [math]23^{24}[/math] i...             0  \n",
       "4            Which fish would survive in salt water?             0  "
      ]
     },
     "metadata": {},
     "output_type": "display_data"
    },
    {
     "name": "stdout",
     "output_type": "stream",
     "text": [
      "\n",
      "    Removed special characters:\n",
      "    Removed single characters:\n",
      "    Standardization to lowercase:\n",
      "\n"
     ]
    },
    {
     "data": {
      "text/html": [
       "<div>\n",
       "<style scoped>\n",
       "    .dataframe tbody tr th:only-of-type {\n",
       "        vertical-align: middle;\n",
       "    }\n",
       "\n",
       "    .dataframe tbody tr th {\n",
       "        vertical-align: top;\n",
       "    }\n",
       "\n",
       "    .dataframe thead th {\n",
       "        text-align: right;\n",
       "    }\n",
       "</style>\n",
       "<table border=\"1\" class=\"dataframe\">\n",
       "  <thead>\n",
       "    <tr style=\"text-align: right;\">\n",
       "      <th></th>\n",
       "      <th>id</th>\n",
       "      <th>qid1</th>\n",
       "      <th>qid2</th>\n",
       "      <th>question1</th>\n",
       "      <th>question2</th>\n",
       "      <th>is_duplicate</th>\n",
       "    </tr>\n",
       "  </thead>\n",
       "  <tbody>\n",
       "    <tr>\n",
       "      <th>0</th>\n",
       "      <td>0</td>\n",
       "      <td>1</td>\n",
       "      <td>2</td>\n",
       "      <td>what is the step by step guide to invest in sh...</td>\n",
       "      <td>What is the step by step guide to invest in sh...</td>\n",
       "      <td>0</td>\n",
       "    </tr>\n",
       "    <tr>\n",
       "      <th>1</th>\n",
       "      <td>1</td>\n",
       "      <td>3</td>\n",
       "      <td>4</td>\n",
       "      <td>what is the story of kohinoor koh noor diamond</td>\n",
       "      <td>What would happen if the Indian government sto...</td>\n",
       "      <td>0</td>\n",
       "    </tr>\n",
       "    <tr>\n",
       "      <th>2</th>\n",
       "      <td>2</td>\n",
       "      <td>5</td>\n",
       "      <td>6</td>\n",
       "      <td>how can increase the speed of my internet conn...</td>\n",
       "      <td>How can Internet speed be increased by hacking...</td>\n",
       "      <td>0</td>\n",
       "    </tr>\n",
       "    <tr>\n",
       "      <th>3</th>\n",
       "      <td>3</td>\n",
       "      <td>7</td>\n",
       "      <td>8</td>\n",
       "      <td>why am mentally very lonely how can solve it</td>\n",
       "      <td>Find the remainder when [math]23^{24}[/math] i...</td>\n",
       "      <td>0</td>\n",
       "    </tr>\n",
       "    <tr>\n",
       "      <th>4</th>\n",
       "      <td>4</td>\n",
       "      <td>9</td>\n",
       "      <td>10</td>\n",
       "      <td>which one dissolve in water quikly sugar salt ...</td>\n",
       "      <td>Which fish would survive in salt water?</td>\n",
       "      <td>0</td>\n",
       "    </tr>\n",
       "  </tbody>\n",
       "</table>\n",
       "</div>"
      ],
      "text/plain": [
       "   id  qid1  qid2                                          question1  \\\n",
       "0   0     1     2  what is the step by step guide to invest in sh...   \n",
       "1   1     3     4    what is the story of kohinoor koh noor diamond    \n",
       "2   2     5     6  how can increase the speed of my internet conn...   \n",
       "3   3     7     8      why am mentally very lonely how can solve it    \n",
       "4   4     9    10  which one dissolve in water quikly sugar salt ...   \n",
       "\n",
       "                                           question2  is_duplicate  \n",
       "0  What is the step by step guide to invest in sh...             0  \n",
       "1  What would happen if the Indian government sto...             0  \n",
       "2  How can Internet speed be increased by hacking...             0  \n",
       "3  Find the remainder when [math]23^{24}[/math] i...             0  \n",
       "4            Which fish would survive in salt water?             0  "
      ]
     },
     "metadata": {},
     "output_type": "display_data"
    },
    {
     "name": "stdout",
     "output_type": "stream",
     "text": [
      "\n",
      "    Removed special characters:\n",
      "    Removed single characters:\n",
      "    Standardization to lowercase:\n",
      "\n"
     ]
    },
    {
     "data": {
      "text/html": [
       "<div>\n",
       "<style scoped>\n",
       "    .dataframe tbody tr th:only-of-type {\n",
       "        vertical-align: middle;\n",
       "    }\n",
       "\n",
       "    .dataframe tbody tr th {\n",
       "        vertical-align: top;\n",
       "    }\n",
       "\n",
       "    .dataframe thead th {\n",
       "        text-align: right;\n",
       "    }\n",
       "</style>\n",
       "<table border=\"1\" class=\"dataframe\">\n",
       "  <thead>\n",
       "    <tr style=\"text-align: right;\">\n",
       "      <th></th>\n",
       "      <th>id</th>\n",
       "      <th>qid1</th>\n",
       "      <th>qid2</th>\n",
       "      <th>question1</th>\n",
       "      <th>question2</th>\n",
       "      <th>is_duplicate</th>\n",
       "    </tr>\n",
       "  </thead>\n",
       "  <tbody>\n",
       "    <tr>\n",
       "      <th>0</th>\n",
       "      <td>0</td>\n",
       "      <td>1</td>\n",
       "      <td>2</td>\n",
       "      <td>what is the step by step guide to invest in sh...</td>\n",
       "      <td>what is the step by step guide to invest in sh...</td>\n",
       "      <td>0</td>\n",
       "    </tr>\n",
       "    <tr>\n",
       "      <th>1</th>\n",
       "      <td>1</td>\n",
       "      <td>3</td>\n",
       "      <td>4</td>\n",
       "      <td>what is the story of kohinoor koh noor diamond</td>\n",
       "      <td>what would happen if the indian government sto...</td>\n",
       "      <td>0</td>\n",
       "    </tr>\n",
       "    <tr>\n",
       "      <th>2</th>\n",
       "      <td>2</td>\n",
       "      <td>5</td>\n",
       "      <td>6</td>\n",
       "      <td>how can increase the speed of my internet conn...</td>\n",
       "      <td>how can internet speed be increased by hacking...</td>\n",
       "      <td>0</td>\n",
       "    </tr>\n",
       "    <tr>\n",
       "      <th>3</th>\n",
       "      <td>3</td>\n",
       "      <td>7</td>\n",
       "      <td>8</td>\n",
       "      <td>why am mentally very lonely how can solve it</td>\n",
       "      <td>find the remainder when math 23 24 math is div...</td>\n",
       "      <td>0</td>\n",
       "    </tr>\n",
       "    <tr>\n",
       "      <th>4</th>\n",
       "      <td>4</td>\n",
       "      <td>9</td>\n",
       "      <td>10</td>\n",
       "      <td>which one dissolve in water quikly sugar salt ...</td>\n",
       "      <td>which fish would survive in salt water</td>\n",
       "      <td>0</td>\n",
       "    </tr>\n",
       "  </tbody>\n",
       "</table>\n",
       "</div>"
      ],
      "text/plain": [
       "   id  qid1  qid2                                          question1  \\\n",
       "0   0     1     2  what is the step by step guide to invest in sh...   \n",
       "1   1     3     4    what is the story of kohinoor koh noor diamond    \n",
       "2   2     5     6  how can increase the speed of my internet conn...   \n",
       "3   3     7     8      why am mentally very lonely how can solve it    \n",
       "4   4     9    10  which one dissolve in water quikly sugar salt ...   \n",
       "\n",
       "                                           question2  is_duplicate  \n",
       "0  what is the step by step guide to invest in sh...             0  \n",
       "1  what would happen if the indian government sto...             0  \n",
       "2  how can internet speed be increased by hacking...             0  \n",
       "3  find the remainder when math 23 24 math is div...             0  \n",
       "4            which fish would survive in salt water              0  "
      ]
     },
     "execution_count": 196,
     "metadata": {},
     "output_type": "execute_result"
    }
   ],
   "source": [
    "q1 = df['question1']\n",
    "q2 = df['question2']\n",
    "display(df.head())\n",
    "\n",
    "# CLEAN: Question1 Column\n",
    "df['question1'] = nlp.text_cleaning_regex(q1)\n",
    "display(df.head())\n",
    "\n",
    "# CLEAN: Question2 Column\n",
    "df['question2'] = nlp.text_cleaning_regex(q2)\n",
    "df.head()"
   ]
  },
  {
   "attachments": {},
   "cell_type": "markdown",
   "metadata": {},
   "source": [
    "##### SAVE: clean data"
   ]
  },
  {
   "cell_type": "code",
   "execution_count": 197,
   "metadata": {},
   "outputs": [],
   "source": [
    "# SAVE: DataFrame stages:\n",
    "df_clean = df.copy()\n",
    "df_clean.to_csv(f'../data/df_clean{tag}.csv', index=False)\n"
   ]
  },
  {
   "attachments": {},
   "cell_type": "markdown",
   "metadata": {},
   "source": [
    "##### <p style=\"font-family:JetBrains Mono; text-align:right; padding-right: 10%;\">[Top Of Page](#lighthouse-labs-mini-project-v-identifying-duplicate-questions) / [TOC](#table-of-contents)</p>"
   ]
  },
  {
   "attachments": {},
   "cell_type": "markdown",
   "metadata": {},
   "source": [
    "## <p style=\"font-family:JetBrains Mono; font-weight:normal; letter-spacing: 1px; color:#207d06; font-size:100%; text-align:left;padding: 0px; border-bottom: 3px solid #207d06;\">PREPROCESS DATA</p>"
   ]
  },
  {
   "cell_type": "code",
   "execution_count": 198,
   "metadata": {},
   "outputs": [
    {
     "name": "stdout",
     "output_type": "stream",
     "text": [
      "\n",
      "question1:\n",
      "    Tokenized text data:\n",
      "    Stemmed root words:\n",
      "    Removed non-alphabetic:\n",
      "    Removed English stopwords:\n",
      "    \n"
     ]
    },
    {
     "data": {
      "text/html": [
       "<div>\n",
       "<style scoped>\n",
       "    .dataframe tbody tr th:only-of-type {\n",
       "        vertical-align: middle;\n",
       "    }\n",
       "\n",
       "    .dataframe tbody tr th {\n",
       "        vertical-align: top;\n",
       "    }\n",
       "\n",
       "    .dataframe thead th {\n",
       "        text-align: right;\n",
       "    }\n",
       "</style>\n",
       "<table border=\"1\" class=\"dataframe\">\n",
       "  <thead>\n",
       "    <tr style=\"text-align: right;\">\n",
       "      <th></th>\n",
       "      <th>id</th>\n",
       "      <th>qid1</th>\n",
       "      <th>qid2</th>\n",
       "      <th>question1</th>\n",
       "      <th>question2</th>\n",
       "      <th>is_duplicate</th>\n",
       "    </tr>\n",
       "  </thead>\n",
       "  <tbody>\n",
       "    <tr>\n",
       "      <th>0</th>\n",
       "      <td>0</td>\n",
       "      <td>1</td>\n",
       "      <td>2</td>\n",
       "      <td>step step guid invest share market india</td>\n",
       "      <td>what is the step by step guide to invest in sh...</td>\n",
       "      <td>0</td>\n",
       "    </tr>\n",
       "    <tr>\n",
       "      <th>1</th>\n",
       "      <td>1</td>\n",
       "      <td>3</td>\n",
       "      <td>4</td>\n",
       "      <td>stori kohinoor koh noor diamond</td>\n",
       "      <td>what would happen if the indian government sto...</td>\n",
       "      <td>0</td>\n",
       "    </tr>\n",
       "    <tr>\n",
       "      <th>2</th>\n",
       "      <td>2</td>\n",
       "      <td>5</td>\n",
       "      <td>6</td>\n",
       "      <td>increas speed internet connect use vpn</td>\n",
       "      <td>how can internet speed be increased by hacking...</td>\n",
       "      <td>0</td>\n",
       "    </tr>\n",
       "    <tr>\n",
       "      <th>3</th>\n",
       "      <td>3</td>\n",
       "      <td>7</td>\n",
       "      <td>8</td>\n",
       "      <td>whi mental veri lone solv</td>\n",
       "      <td>find the remainder when math 23 24 math is div...</td>\n",
       "      <td>0</td>\n",
       "    </tr>\n",
       "    <tr>\n",
       "      <th>4</th>\n",
       "      <td>4</td>\n",
       "      <td>9</td>\n",
       "      <td>10</td>\n",
       "      <td>one dissolv water quikli sugar salt methan car...</td>\n",
       "      <td>which fish would survive in salt water</td>\n",
       "      <td>0</td>\n",
       "    </tr>\n",
       "  </tbody>\n",
       "</table>\n",
       "</div>"
      ],
      "text/plain": [
       "   id  qid1  qid2                                          question1  \\\n",
       "0   0     1     2           step step guid invest share market india   \n",
       "1   1     3     4                    stori kohinoor koh noor diamond   \n",
       "2   2     5     6             increas speed internet connect use vpn   \n",
       "3   3     7     8                          whi mental veri lone solv   \n",
       "4   4     9    10  one dissolv water quikli sugar salt methan car...   \n",
       "\n",
       "                                           question2  is_duplicate  \n",
       "0  what is the step by step guide to invest in sh...             0  \n",
       "1  what would happen if the indian government sto...             0  \n",
       "2  how can internet speed be increased by hacking...             0  \n",
       "3  find the remainder when math 23 24 math is div...             0  \n",
       "4            which fish would survive in salt water              0  "
      ]
     },
     "metadata": {},
     "output_type": "display_data"
    },
    {
     "name": "stdout",
     "output_type": "stream",
     "text": [
      "\n",
      "question2:\n",
      "    Tokenized text data:\n",
      "    Stemmed root words:\n",
      "    Removed non-alphabetic:\n",
      "    Removed English stopwords:\n",
      "    \n"
     ]
    },
    {
     "data": {
      "text/html": [
       "<div>\n",
       "<style scoped>\n",
       "    .dataframe tbody tr th:only-of-type {\n",
       "        vertical-align: middle;\n",
       "    }\n",
       "\n",
       "    .dataframe tbody tr th {\n",
       "        vertical-align: top;\n",
       "    }\n",
       "\n",
       "    .dataframe thead th {\n",
       "        text-align: right;\n",
       "    }\n",
       "</style>\n",
       "<table border=\"1\" class=\"dataframe\">\n",
       "  <thead>\n",
       "    <tr style=\"text-align: right;\">\n",
       "      <th></th>\n",
       "      <th>id</th>\n",
       "      <th>qid1</th>\n",
       "      <th>qid2</th>\n",
       "      <th>question1</th>\n",
       "      <th>question2</th>\n",
       "      <th>is_duplicate</th>\n",
       "    </tr>\n",
       "  </thead>\n",
       "  <tbody>\n",
       "    <tr>\n",
       "      <th>0</th>\n",
       "      <td>0</td>\n",
       "      <td>1</td>\n",
       "      <td>2</td>\n",
       "      <td>step step guid invest share market india</td>\n",
       "      <td>step step guid invest share market</td>\n",
       "      <td>0</td>\n",
       "    </tr>\n",
       "    <tr>\n",
       "      <th>1</th>\n",
       "      <td>1</td>\n",
       "      <td>3</td>\n",
       "      <td>4</td>\n",
       "      <td>stori kohinoor koh noor diamond</td>\n",
       "      <td>would happen indian govern stole kohinoor koh ...</td>\n",
       "      <td>0</td>\n",
       "    </tr>\n",
       "    <tr>\n",
       "      <th>2</th>\n",
       "      <td>2</td>\n",
       "      <td>5</td>\n",
       "      <td>6</td>\n",
       "      <td>increas speed internet connect use vpn</td>\n",
       "      <td>internet speed increas hack dn</td>\n",
       "      <td>0</td>\n",
       "    </tr>\n",
       "    <tr>\n",
       "      <th>3</th>\n",
       "      <td>3</td>\n",
       "      <td>7</td>\n",
       "      <td>8</td>\n",
       "      <td>whi mental veri lone solv</td>\n",
       "      <td>find remaind math math divid</td>\n",
       "      <td>0</td>\n",
       "    </tr>\n",
       "    <tr>\n",
       "      <th>4</th>\n",
       "      <td>4</td>\n",
       "      <td>9</td>\n",
       "      <td>10</td>\n",
       "      <td>one dissolv water quikli sugar salt methan car...</td>\n",
       "      <td>fish would surviv salt water</td>\n",
       "      <td>0</td>\n",
       "    </tr>\n",
       "  </tbody>\n",
       "</table>\n",
       "</div>"
      ],
      "text/plain": [
       "   id  qid1  qid2                                          question1  \\\n",
       "0   0     1     2           step step guid invest share market india   \n",
       "1   1     3     4                    stori kohinoor koh noor diamond   \n",
       "2   2     5     6             increas speed internet connect use vpn   \n",
       "3   3     7     8                          whi mental veri lone solv   \n",
       "4   4     9    10  one dissolv water quikli sugar salt methan car...   \n",
       "\n",
       "                                           question2  is_duplicate  \n",
       "0                 step step guid invest share market             0  \n",
       "1  would happen indian govern stole kohinoor koh ...             0  \n",
       "2                     internet speed increas hack dn             0  \n",
       "3                       find remaind math math divid             0  \n",
       "4                       fish would surviv salt water             0  "
      ]
     },
     "metadata": {},
     "output_type": "display_data"
    }
   ],
   "source": [
    "df['question1'] = df['question1'].apply(lambda x: nlp.preprocess(x, output_list=False))\n",
    "nlp.preprocess_report('question1')\n",
    "display(df.head())\n",
    "\n",
    "df['question2'] = df['question2'].apply(lambda x: nlp.preprocess(x, output_list=False))\n",
    "nlp.preprocess_report('question2')\n",
    "display(df.head())\n"
   ]
  },
  {
   "cell_type": "code",
   "execution_count": 199,
   "metadata": {},
   "outputs": [
    {
     "data": {
      "text/html": [
       "<div>\n",
       "<style scoped>\n",
       "    .dataframe tbody tr th:only-of-type {\n",
       "        vertical-align: middle;\n",
       "    }\n",
       "\n",
       "    .dataframe tbody tr th {\n",
       "        vertical-align: top;\n",
       "    }\n",
       "\n",
       "    .dataframe thead th {\n",
       "        text-align: right;\n",
       "    }\n",
       "</style>\n",
       "<table border=\"1\" class=\"dataframe\">\n",
       "  <thead>\n",
       "    <tr style=\"text-align: right;\">\n",
       "      <th></th>\n",
       "      <th>id</th>\n",
       "      <th>qid1</th>\n",
       "      <th>qid2</th>\n",
       "      <th>question1</th>\n",
       "      <th>question2</th>\n",
       "      <th>is_duplicate</th>\n",
       "      <th>q1_list</th>\n",
       "    </tr>\n",
       "  </thead>\n",
       "  <tbody>\n",
       "    <tr>\n",
       "      <th>0</th>\n",
       "      <td>0</td>\n",
       "      <td>1</td>\n",
       "      <td>2</td>\n",
       "      <td>step step guid invest share market india</td>\n",
       "      <td>step step guid invest share market</td>\n",
       "      <td>0</td>\n",
       "      <td>[step, step, guid, invest, share, market, india]</td>\n",
       "    </tr>\n",
       "    <tr>\n",
       "      <th>1</th>\n",
       "      <td>1</td>\n",
       "      <td>3</td>\n",
       "      <td>4</td>\n",
       "      <td>stori kohinoor koh noor diamond</td>\n",
       "      <td>would happen indian govern stole kohinoor koh ...</td>\n",
       "      <td>0</td>\n",
       "      <td>[stori, kohinoor, koh, noor, diamond]</td>\n",
       "    </tr>\n",
       "    <tr>\n",
       "      <th>2</th>\n",
       "      <td>2</td>\n",
       "      <td>5</td>\n",
       "      <td>6</td>\n",
       "      <td>increas speed internet connect use vpn</td>\n",
       "      <td>internet speed increas hack dn</td>\n",
       "      <td>0</td>\n",
       "      <td>[increa, speed, internet, connect, use, vpn]</td>\n",
       "    </tr>\n",
       "    <tr>\n",
       "      <th>3</th>\n",
       "      <td>3</td>\n",
       "      <td>7</td>\n",
       "      <td>8</td>\n",
       "      <td>whi mental veri lone solv</td>\n",
       "      <td>find remaind math math divid</td>\n",
       "      <td>0</td>\n",
       "      <td>[whi, mental, veri, lone, solv]</td>\n",
       "    </tr>\n",
       "    <tr>\n",
       "      <th>4</th>\n",
       "      <td>4</td>\n",
       "      <td>9</td>\n",
       "      <td>10</td>\n",
       "      <td>one dissolv water quikli sugar salt methan car...</td>\n",
       "      <td>fish would surviv salt water</td>\n",
       "      <td>0</td>\n",
       "      <td>[one, dissolv, water, quikli, sugar, salt, met...</td>\n",
       "    </tr>\n",
       "  </tbody>\n",
       "</table>\n",
       "</div>"
      ],
      "text/plain": [
       "   id  qid1  qid2                                          question1  \\\n",
       "0   0     1     2           step step guid invest share market india   \n",
       "1   1     3     4                    stori kohinoor koh noor diamond   \n",
       "2   2     5     6             increas speed internet connect use vpn   \n",
       "3   3     7     8                          whi mental veri lone solv   \n",
       "4   4     9    10  one dissolv water quikli sugar salt methan car...   \n",
       "\n",
       "                                           question2  is_duplicate  \\\n",
       "0                 step step guid invest share market             0   \n",
       "1  would happen indian govern stole kohinoor koh ...             0   \n",
       "2                     internet speed increas hack dn             0   \n",
       "3                       find remaind math math divid             0   \n",
       "4                       fish would surviv salt water             0   \n",
       "\n",
       "                                             q1_list  \n",
       "0   [step, step, guid, invest, share, market, india]  \n",
       "1              [stori, kohinoor, koh, noor, diamond]  \n",
       "2       [increa, speed, internet, connect, use, vpn]  \n",
       "3                    [whi, mental, veri, lone, solv]  \n",
       "4  [one, dissolv, water, quikli, sugar, salt, met...  "
      ]
     },
     "metadata": {},
     "output_type": "display_data"
    },
    {
     "data": {
      "text/html": [
       "<div>\n",
       "<style scoped>\n",
       "    .dataframe tbody tr th:only-of-type {\n",
       "        vertical-align: middle;\n",
       "    }\n",
       "\n",
       "    .dataframe tbody tr th {\n",
       "        vertical-align: top;\n",
       "    }\n",
       "\n",
       "    .dataframe thead th {\n",
       "        text-align: right;\n",
       "    }\n",
       "</style>\n",
       "<table border=\"1\" class=\"dataframe\">\n",
       "  <thead>\n",
       "    <tr style=\"text-align: right;\">\n",
       "      <th></th>\n",
       "      <th>id</th>\n",
       "      <th>qid1</th>\n",
       "      <th>qid2</th>\n",
       "      <th>question1</th>\n",
       "      <th>question2</th>\n",
       "      <th>is_duplicate</th>\n",
       "      <th>q1_list</th>\n",
       "      <th>q2_list</th>\n",
       "    </tr>\n",
       "  </thead>\n",
       "  <tbody>\n",
       "    <tr>\n",
       "      <th>0</th>\n",
       "      <td>0</td>\n",
       "      <td>1</td>\n",
       "      <td>2</td>\n",
       "      <td>step step guid invest share market india</td>\n",
       "      <td>step step guid invest share market</td>\n",
       "      <td>0</td>\n",
       "      <td>[step, step, guid, invest, share, market, india]</td>\n",
       "      <td>[step, step, guid, invest, share, market]</td>\n",
       "    </tr>\n",
       "    <tr>\n",
       "      <th>1</th>\n",
       "      <td>1</td>\n",
       "      <td>3</td>\n",
       "      <td>4</td>\n",
       "      <td>stori kohinoor koh noor diamond</td>\n",
       "      <td>would happen indian govern stole kohinoor koh ...</td>\n",
       "      <td>0</td>\n",
       "      <td>[stori, kohinoor, koh, noor, diamond]</td>\n",
       "      <td>[would, happen, indian, govern, stole, kohinoo...</td>\n",
       "    </tr>\n",
       "    <tr>\n",
       "      <th>2</th>\n",
       "      <td>2</td>\n",
       "      <td>5</td>\n",
       "      <td>6</td>\n",
       "      <td>increas speed internet connect use vpn</td>\n",
       "      <td>internet speed increas hack dn</td>\n",
       "      <td>0</td>\n",
       "      <td>[increa, speed, internet, connect, use, vpn]</td>\n",
       "      <td>[internet, speed, increa, hack, dn]</td>\n",
       "    </tr>\n",
       "    <tr>\n",
       "      <th>3</th>\n",
       "      <td>3</td>\n",
       "      <td>7</td>\n",
       "      <td>8</td>\n",
       "      <td>whi mental veri lone solv</td>\n",
       "      <td>find remaind math math divid</td>\n",
       "      <td>0</td>\n",
       "      <td>[whi, mental, veri, lone, solv]</td>\n",
       "      <td>[find, remaind, math, math, divid]</td>\n",
       "    </tr>\n",
       "    <tr>\n",
       "      <th>4</th>\n",
       "      <td>4</td>\n",
       "      <td>9</td>\n",
       "      <td>10</td>\n",
       "      <td>one dissolv water quikli sugar salt methan car...</td>\n",
       "      <td>fish would surviv salt water</td>\n",
       "      <td>0</td>\n",
       "      <td>[one, dissolv, water, quikli, sugar, salt, met...</td>\n",
       "      <td>[fish, would, surviv, salt, water]</td>\n",
       "    </tr>\n",
       "  </tbody>\n",
       "</table>\n",
       "</div>"
      ],
      "text/plain": [
       "   id  qid1  qid2                                          question1  \\\n",
       "0   0     1     2           step step guid invest share market india   \n",
       "1   1     3     4                    stori kohinoor koh noor diamond   \n",
       "2   2     5     6             increas speed internet connect use vpn   \n",
       "3   3     7     8                          whi mental veri lone solv   \n",
       "4   4     9    10  one dissolv water quikli sugar salt methan car...   \n",
       "\n",
       "                                           question2  is_duplicate  \\\n",
       "0                 step step guid invest share market             0   \n",
       "1  would happen indian govern stole kohinoor koh ...             0   \n",
       "2                     internet speed increas hack dn             0   \n",
       "3                       find remaind math math divid             0   \n",
       "4                       fish would surviv salt water             0   \n",
       "\n",
       "                                             q1_list  \\\n",
       "0   [step, step, guid, invest, share, market, india]   \n",
       "1              [stori, kohinoor, koh, noor, diamond]   \n",
       "2       [increa, speed, internet, connect, use, vpn]   \n",
       "3                    [whi, mental, veri, lone, solv]   \n",
       "4  [one, dissolv, water, quikli, sugar, salt, met...   \n",
       "\n",
       "                                             q2_list  \n",
       "0          [step, step, guid, invest, share, market]  \n",
       "1  [would, happen, indian, govern, stole, kohinoo...  \n",
       "2                [internet, speed, increa, hack, dn]  \n",
       "3                 [find, remaind, math, math, divid]  \n",
       "4                 [fish, would, surviv, salt, water]  "
      ]
     },
     "metadata": {},
     "output_type": "display_data"
    }
   ],
   "source": [
    "# Add two new columns with the text features in list format:\n",
    "df['q1_list'] = df['question1'].apply(lambda x: nlp.preprocess(x, output_list=True))\n",
    "display(df.head())\n",
    "\n",
    "df['q2_list'] = df['question2'].apply(lambda x: nlp.preprocess(x, output_list=True))\n",
    "display(df.head())"
   ]
  },
  {
   "attachments": {},
   "cell_type": "markdown",
   "metadata": {},
   "source": [
    "[W9D1m4]('../../../../../Documents/LHL%20DS%20Bootcamp/Course%20work/W9/W9D1m4_data_prep_NLP.ipynb)  \n",
    "\n",
    "[W9D1m5]('../../../../../Documents/LHL%20DS%20Bootcamp/Course%20work/W9/W9D1m5_NLP_data_preparation_exercise.ipynb)"
   ]
  },
  {
   "attachments": {},
   "cell_type": "markdown",
   "metadata": {},
   "source": [
    "##### SAVE: preprocessed data"
   ]
  },
  {
   "cell_type": "code",
   "execution_count": 200,
   "metadata": {},
   "outputs": [],
   "source": [
    "df_preprocessed = df.copy()\n",
    "df.to_csv(f'../data/df_preprocessed{tag}.csv', index=False)"
   ]
  },
  {
   "attachments": {},
   "cell_type": "markdown",
   "metadata": {},
   "source": [
    "##### <p style=\"font-family:JetBrains Mono; text-align:right; padding-right: 10%;\">[Top Of Page](#lighthouse-labs-mini-project-v-identifying-duplicate-questions) / [TOC](#table-of-contents)</p>"
   ]
  },
  {
   "attachments": {},
   "cell_type": "markdown",
   "metadata": {},
   "source": [
    "## <p style=\"font-family:JetBrains Mono; font-weight:normal; letter-spacing: 1px; color:#207d06; font-size:100%; text-align:left;padding: 0px; border-bottom: 3px solid #207d06;\">FEATURE ENGINEERING</p>"
   ]
  },
  {
   "attachments": {},
   "cell_type": "markdown",
   "metadata": {},
   "source": [
    "### <p style=\"font-family:JetBrains Mono; font-weight:normal; letter-spacing: 1px; color:#8fca6b; font-size:100%; text-align:left;padding: 0px; border-bottom: 2px solid #8fca6b;\">NLP REPRESENTATIONS</p>"
   ]
  },
  {
   "attachments": {},
   "cell_type": "markdown",
   "metadata": {},
   "source": [
    "<!--\n",
    "Feature Engineering\n",
    "\n",
    "- tf-idf\n",
    "- word2vec\n",
    "- word count\n",
    "- number of the same words in both questions\n",
    "- ....\n",
    "\n",
    "##### <p style=\"font-family:JetBrains Mono; text-align:right; padding-right: 10%;\">[Top Of Page](#lighthouse-labs-mini-project-v-identifying-duplicate-questions) / [TOC](#table-of-contents)</p>\n",
    "-->"
   ]
  },
  {
   "cell_type": "code",
   "execution_count": 201,
   "metadata": {},
   "outputs": [
    {
     "data": {
      "text/html": [
       "<div>\n",
       "<style scoped>\n",
       "    .dataframe tbody tr th:only-of-type {\n",
       "        vertical-align: middle;\n",
       "    }\n",
       "\n",
       "    .dataframe tbody tr th {\n",
       "        vertical-align: top;\n",
       "    }\n",
       "\n",
       "    .dataframe thead th {\n",
       "        text-align: right;\n",
       "    }\n",
       "</style>\n",
       "<table border=\"1\" class=\"dataframe\">\n",
       "  <thead>\n",
       "    <tr style=\"text-align: right;\">\n",
       "      <th></th>\n",
       "      <th>id</th>\n",
       "      <th>qid1</th>\n",
       "      <th>qid2</th>\n",
       "      <th>question1</th>\n",
       "      <th>question2</th>\n",
       "      <th>is_duplicate</th>\n",
       "      <th>q1_list</th>\n",
       "      <th>q2_list</th>\n",
       "    </tr>\n",
       "  </thead>\n",
       "  <tbody>\n",
       "    <tr>\n",
       "      <th>0</th>\n",
       "      <td>0</td>\n",
       "      <td>1</td>\n",
       "      <td>2</td>\n",
       "      <td>step step guid invest share market india</td>\n",
       "      <td>step step guid invest share market</td>\n",
       "      <td>0</td>\n",
       "      <td>[step, step, guid, invest, share, market, india]</td>\n",
       "      <td>[step, step, guid, invest, share, market]</td>\n",
       "    </tr>\n",
       "    <tr>\n",
       "      <th>1</th>\n",
       "      <td>1</td>\n",
       "      <td>3</td>\n",
       "      <td>4</td>\n",
       "      <td>stori kohinoor koh noor diamond</td>\n",
       "      <td>would happen indian govern stole kohinoor koh ...</td>\n",
       "      <td>0</td>\n",
       "      <td>[stori, kohinoor, koh, noor, diamond]</td>\n",
       "      <td>[would, happen, indian, govern, stole, kohinoo...</td>\n",
       "    </tr>\n",
       "    <tr>\n",
       "      <th>2</th>\n",
       "      <td>2</td>\n",
       "      <td>5</td>\n",
       "      <td>6</td>\n",
       "      <td>increas speed internet connect use vpn</td>\n",
       "      <td>internet speed increas hack dn</td>\n",
       "      <td>0</td>\n",
       "      <td>[increa, speed, internet, connect, use, vpn]</td>\n",
       "      <td>[internet, speed, increa, hack, dn]</td>\n",
       "    </tr>\n",
       "    <tr>\n",
       "      <th>3</th>\n",
       "      <td>3</td>\n",
       "      <td>7</td>\n",
       "      <td>8</td>\n",
       "      <td>whi mental veri lone solv</td>\n",
       "      <td>find remaind math math divid</td>\n",
       "      <td>0</td>\n",
       "      <td>[whi, mental, veri, lone, solv]</td>\n",
       "      <td>[find, remaind, math, math, divid]</td>\n",
       "    </tr>\n",
       "    <tr>\n",
       "      <th>4</th>\n",
       "      <td>4</td>\n",
       "      <td>9</td>\n",
       "      <td>10</td>\n",
       "      <td>one dissolv water quikli sugar salt methan car...</td>\n",
       "      <td>fish would surviv salt water</td>\n",
       "      <td>0</td>\n",
       "      <td>[one, dissolv, water, quikli, sugar, salt, met...</td>\n",
       "      <td>[fish, would, surviv, salt, water]</td>\n",
       "    </tr>\n",
       "  </tbody>\n",
       "</table>\n",
       "</div>"
      ],
      "text/plain": [
       "   id  qid1  qid2                                          question1  \\\n",
       "0   0     1     2           step step guid invest share market india   \n",
       "1   1     3     4                    stori kohinoor koh noor diamond   \n",
       "2   2     5     6             increas speed internet connect use vpn   \n",
       "3   3     7     8                          whi mental veri lone solv   \n",
       "4   4     9    10  one dissolv water quikli sugar salt methan car...   \n",
       "\n",
       "                                           question2  is_duplicate  \\\n",
       "0                 step step guid invest share market             0   \n",
       "1  would happen indian govern stole kohinoor koh ...             0   \n",
       "2                     internet speed increas hack dn             0   \n",
       "3                       find remaind math math divid             0   \n",
       "4                       fish would surviv salt water             0   \n",
       "\n",
       "                                             q1_list  \\\n",
       "0   [step, step, guid, invest, share, market, india]   \n",
       "1              [stori, kohinoor, koh, noor, diamond]   \n",
       "2       [increa, speed, internet, connect, use, vpn]   \n",
       "3                    [whi, mental, veri, lone, solv]   \n",
       "4  [one, dissolv, water, quikli, sugar, salt, met...   \n",
       "\n",
       "                                             q2_list  \n",
       "0          [step, step, guid, invest, share, market]  \n",
       "1  [would, happen, indian, govern, stole, kohinoo...  \n",
       "2                [internet, speed, increa, hack, dn]  \n",
       "3                 [find, remaind, math, math, divid]  \n",
       "4                 [fish, would, surviv, salt, water]  "
      ]
     },
     "execution_count": 201,
     "metadata": {},
     "output_type": "execute_result"
    }
   ],
   "source": [
    "df.head()"
   ]
  },
  {
   "cell_type": "code",
   "execution_count": 202,
   "metadata": {},
   "outputs": [
    {
     "data": {
      "text/plain": [
       "[['step', 'step', 'guid', 'invest', 'share', 'market', 'india'],\n",
       " ['stori', 'kohinoor', 'koh', 'noor', 'diamond'],\n",
       " ['increa', 'speed', 'internet', 'connect', 'use', 'vpn'],\n",
       " ['whi', 'mental', 'veri', 'lone', 'solv'],\n",
       " ['one',\n",
       "  'dissolv',\n",
       "  'water',\n",
       "  'quikli',\n",
       "  'sugar',\n",
       "  'salt',\n",
       "  'methan',\n",
       "  'carbon',\n",
       "  'di',\n",
       "  'oxid']]"
      ]
     },
     "execution_count": 202,
     "metadata": {},
     "output_type": "execute_result"
    }
   ],
   "source": [
    "# Convert to list\n",
    "df_clean_question1 = df_clean.question1.values.tolist()\n",
    "df_clean_question2 = df_clean.question2.values.tolist()\n",
    "question1 = df['question1'].values.tolist()\n",
    "question2 = df['question2'].values.tolist()\n",
    "q1_list = df['q1_list'].values.tolist()\n",
    "q2_list = df['q2_list'].values.tolist()\n",
    "question1[:5]\n",
    "q1_list[:5]"
   ]
  },
  {
   "cell_type": "code",
   "execution_count": 203,
   "metadata": {},
   "outputs": [],
   "source": [
    "from nltk.stem import WordNetLemmatizer\n",
    "\n",
    "def lemmatize_verbs(text):\n",
    "    \"\"\"Lemmatize verbs in list of tokenized text\"\"\"\n",
    "    lemmatizer = WordNetLemmatizer()\n",
    "    lemmas = []\n",
    "    for word in text:\n",
    "        lemma = lemmatizer.lemmatize(word, pos='v')\n",
    "        lemmas.append(lemma)\n",
    "    return lemmas"
   ]
  },
  {
   "cell_type": "code",
   "execution_count": 204,
   "metadata": {},
   "outputs": [],
   "source": [
    "lemma_df_clean_question1 = lemmatize_verbs(df_clean_question1)\n",
    "lemma_df_clean_question2 = lemmatize_verbs(df_clean_question2)\n",
    "lemma_question1 = lemmatize_verbs(question1)\n",
    "lemma_question2 = lemmatize_verbs(question2)"
   ]
  },
  {
   "cell_type": "code",
   "execution_count": 205,
   "metadata": {},
   "outputs": [
    {
     "data": {
      "text/plain": [
       "['what is the step by step guide to invest in share market in india ',\n",
       " 'what is the story of kohinoor koh noor diamond ',\n",
       " 'how can increase the speed of my internet connection while using vpn ',\n",
       " 'why am mentally very lonely how can solve it ',\n",
       " 'which one dissolve in water quikly sugar salt methane and carbon di oxide ']"
      ]
     },
     "execution_count": 205,
     "metadata": {},
     "output_type": "execute_result"
    }
   ],
   "source": [
    "lemma_df_clean_question1[:5]"
   ]
  },
  {
   "cell_type": "code",
   "execution_count": 206,
   "metadata": {},
   "outputs": [
    {
     "data": {
      "text/plain": [
       "['step step guid invest share market india',\n",
       " 'stori kohinoor koh noor diamond',\n",
       " 'increas speed internet connect use vpn',\n",
       " 'whi mental veri lone solv',\n",
       " 'one dissolv water quikli sugar salt methan carbon di oxid']"
      ]
     },
     "execution_count": 206,
     "metadata": {},
     "output_type": "execute_result"
    }
   ],
   "source": [
    "lemma_question1[:5]"
   ]
  },
  {
   "attachments": {},
   "cell_type": "markdown",
   "metadata": {},
   "source": [
    "##### <p style=\"font-family:JetBrains Mono; text-align:right; padding-right: 10%;\">[Top Of Page](#lighthouse-labs-mini-project-v-identifying-duplicate-questions) / [TOC](#table-of-contents)</p>\n"
   ]
  },
  {
   "attachments": {},
   "cell_type": "markdown",
   "metadata": {},
   "source": [
    "#### <p style=\"font-family:JetBrains Mono; font-weight:normal; letter-spacing: 1px; color:#c8d43e; font-size:100%; text-align:left;padding: 0px; border-bottom: 1px solid #c8d43e;\">BAG OF WORDS (BOW)</p>"
   ]
  },
  {
   "cell_type": "code",
   "execution_count": 207,
   "metadata": {},
   "outputs": [],
   "source": [
    "from sklearn.feature_extraction.text import CountVectorizer # BOW"
   ]
  },
  {
   "attachments": {},
   "cell_type": "markdown",
   "metadata": {},
   "source": [
    "[W9D1m12]('../../../../../Documents/LHL%20DS%20Bootcamp/Course%20work/W9/W9D1m12_NLP_representations_exercise.ipynb')\n"
   ]
  },
  {
   "attachments": {},
   "cell_type": "markdown",
   "metadata": {},
   "source": [
    "* instantiate [CountVectorizer()](https://scikit-learn.org/stable/modules/generated/sklearn.feature_extraction.text.CountVectorizer.html)"
   ]
  },
  {
   "cell_type": "code",
   "execution_count": 208,
   "metadata": {},
   "outputs": [],
   "source": [
    "cv = CountVectorizer()"
   ]
  },
  {
   "attachments": {},
   "cell_type": "markdown",
   "metadata": {},
   "source": [
    "* use fit_transform method of CountVectorizer to 'docs' and store the result in 'word_count_vector'"
   ]
  },
  {
   "cell_type": "code",
   "execution_count": 209,
   "metadata": {},
   "outputs": [
    {
     "data": {
      "text/plain": [
       "<7x6 sparse matrix of type '<class 'numpy.int64'>'\n",
       "\twith 7 stored elements in Compressed Sparse Row format>"
      ]
     },
     "execution_count": 209,
     "metadata": {},
     "output_type": "execute_result"
    }
   ],
   "source": [
    "word_count_vector = cv.fit_transform(q1_list[0])\n",
    "word_count_vector"
   ]
  },
  {
   "cell_type": "code",
   "execution_count": 210,
   "metadata": {},
   "outputs": [
    {
     "name": "stdout",
     "output_type": "stream",
     "text": [
      "<class 'scipy.sparse._csr.csr_matrix'>\n"
     ]
    },
    {
     "data": {
      "text/plain": [
       "array([[0, 0, 0, 0, 0, 1],\n",
       "       [0, 0, 0, 0, 0, 1],\n",
       "       [1, 0, 0, 0, 0, 0],\n",
       "       [0, 0, 1, 0, 0, 0],\n",
       "       [0, 0, 0, 0, 1, 0],\n",
       "       [0, 0, 0, 1, 0, 0],\n",
       "       [0, 1, 0, 0, 0, 0]])"
      ]
     },
     "execution_count": 210,
     "metadata": {},
     "output_type": "execute_result"
    }
   ],
   "source": [
    "print(type(word_count_vector))\n",
    "# scipy.sparse._csr.csr_matrix\n",
    "word_count_vector.toarray()"
   ]
  },
  {
   "cell_type": "code",
   "execution_count": 211,
   "metadata": {},
   "outputs": [],
   "source": [
    "feature_names = cv.get_feature_names_out()"
   ]
  },
  {
   "cell_type": "code",
   "execution_count": 212,
   "metadata": {},
   "outputs": [
    {
     "data": {
      "text/html": [
       "<div>\n",
       "<style scoped>\n",
       "    .dataframe tbody tr th:only-of-type {\n",
       "        vertical-align: middle;\n",
       "    }\n",
       "\n",
       "    .dataframe tbody tr th {\n",
       "        vertical-align: top;\n",
       "    }\n",
       "\n",
       "    .dataframe thead th {\n",
       "        text-align: right;\n",
       "    }\n",
       "</style>\n",
       "<table border=\"1\" class=\"dataframe\">\n",
       "  <thead>\n",
       "    <tr style=\"text-align: right;\">\n",
       "      <th></th>\n",
       "      <th>guid</th>\n",
       "      <th>india</th>\n",
       "      <th>invest</th>\n",
       "      <th>market</th>\n",
       "      <th>share</th>\n",
       "      <th>step</th>\n",
       "    </tr>\n",
       "  </thead>\n",
       "  <tbody>\n",
       "    <tr>\n",
       "      <th>0</th>\n",
       "      <td>0</td>\n",
       "      <td>0</td>\n",
       "      <td>0</td>\n",
       "      <td>0</td>\n",
       "      <td>0</td>\n",
       "      <td>1</td>\n",
       "    </tr>\n",
       "    <tr>\n",
       "      <th>1</th>\n",
       "      <td>0</td>\n",
       "      <td>0</td>\n",
       "      <td>0</td>\n",
       "      <td>0</td>\n",
       "      <td>0</td>\n",
       "      <td>1</td>\n",
       "    </tr>\n",
       "    <tr>\n",
       "      <th>2</th>\n",
       "      <td>1</td>\n",
       "      <td>0</td>\n",
       "      <td>0</td>\n",
       "      <td>0</td>\n",
       "      <td>0</td>\n",
       "      <td>0</td>\n",
       "    </tr>\n",
       "    <tr>\n",
       "      <th>3</th>\n",
       "      <td>0</td>\n",
       "      <td>0</td>\n",
       "      <td>1</td>\n",
       "      <td>0</td>\n",
       "      <td>0</td>\n",
       "      <td>0</td>\n",
       "    </tr>\n",
       "    <tr>\n",
       "      <th>4</th>\n",
       "      <td>0</td>\n",
       "      <td>0</td>\n",
       "      <td>0</td>\n",
       "      <td>0</td>\n",
       "      <td>1</td>\n",
       "      <td>0</td>\n",
       "    </tr>\n",
       "    <tr>\n",
       "      <th>5</th>\n",
       "      <td>0</td>\n",
       "      <td>0</td>\n",
       "      <td>0</td>\n",
       "      <td>1</td>\n",
       "      <td>0</td>\n",
       "      <td>0</td>\n",
       "    </tr>\n",
       "    <tr>\n",
       "      <th>6</th>\n",
       "      <td>0</td>\n",
       "      <td>1</td>\n",
       "      <td>0</td>\n",
       "      <td>0</td>\n",
       "      <td>0</td>\n",
       "      <td>0</td>\n",
       "    </tr>\n",
       "  </tbody>\n",
       "</table>\n",
       "</div>"
      ],
      "text/plain": [
       "   guid  india  invest  market  share  step\n",
       "0     0      0       0       0      0     1\n",
       "1     0      0       0       0      0     1\n",
       "2     1      0       0       0      0     0\n",
       "3     0      0       1       0      0     0\n",
       "4     0      0       0       0      1     0\n",
       "5     0      0       0       1      0     0\n",
       "6     0      1       0       0      0     0"
      ]
     },
     "metadata": {},
     "output_type": "display_data"
    },
    {
     "data": {
      "text/plain": [
       "{'guid': 1, 'india': 1, 'invest': 1, 'market': 1, 'share': 1, 'step': 2}"
      ]
     },
     "execution_count": 212,
     "metadata": {},
     "output_type": "execute_result"
    }
   ],
   "source": [
    "X = pd.DataFrame(word_count_vector.toarray(), columns=feature_names)\n",
    "display(X)\n",
    "X.sum().to_dict()"
   ]
  },
  {
   "cell_type": "code",
   "execution_count": null,
   "metadata": {},
   "outputs": [],
   "source": [
    "def bow_vector_matrix(text, cv):\n",
    "    bow_matrix = cv.fit_transform(text)\n",
    "    X = pd.DataFrame(bow_matrix.toarray(), columns = cv.get_feature_names_out())\n",
    "    # display(X)\n",
    "    return X.sum().to_dict()"
   ]
  },
  {
   "attachments": {},
   "cell_type": "markdown",
   "metadata": {},
   "source": [
    "##### <p style=\"font-family:JetBrains Mono; text-align:right; padding-right: 10%;\">[Top Of Page](#lighthouse-labs-mini-project-v-identifying-duplicate-questions) / [TOC](#table-of-contents)</p>"
   ]
  },
  {
   "attachments": {},
   "cell_type": "markdown",
   "metadata": {},
   "source": [
    "#### <p style=\"font-family:JetBrains Mono; font-weight:normal; letter-spacing: 1px; color:#c8d43e; font-size:100%; text-align:left;padding: 0px; border-bottom: 1px solid #c8d43e;\">PROCESS UNIQUE QUESTION PAIRS</p>"
   ]
  },
  {
   "cell_type": "code",
   "execution_count": 213,
   "metadata": {},
   "outputs": [
    {
     "data": {
      "text/html": [
       "<div>\n",
       "<style scoped>\n",
       "    .dataframe tbody tr th:only-of-type {\n",
       "        vertical-align: middle;\n",
       "    }\n",
       "\n",
       "    .dataframe tbody tr th {\n",
       "        vertical-align: top;\n",
       "    }\n",
       "\n",
       "    .dataframe thead th {\n",
       "        text-align: right;\n",
       "    }\n",
       "</style>\n",
       "<table border=\"1\" class=\"dataframe\">\n",
       "  <thead>\n",
       "    <tr style=\"text-align: right;\">\n",
       "      <th></th>\n",
       "      <th>id</th>\n",
       "      <th>qid1</th>\n",
       "      <th>qid2</th>\n",
       "      <th>question1</th>\n",
       "      <th>question2</th>\n",
       "      <th>is_duplicate</th>\n",
       "      <th>q_pairs</th>\n",
       "    </tr>\n",
       "  </thead>\n",
       "  <tbody>\n",
       "    <tr>\n",
       "      <th>0</th>\n",
       "      <td>0</td>\n",
       "      <td>1</td>\n",
       "      <td>2</td>\n",
       "      <td>step step guid invest share market india</td>\n",
       "      <td>step step guid invest share market</td>\n",
       "      <td>0</td>\n",
       "      <td>step step guid invest share market india step ...</td>\n",
       "    </tr>\n",
       "    <tr>\n",
       "      <th>1</th>\n",
       "      <td>1</td>\n",
       "      <td>3</td>\n",
       "      <td>4</td>\n",
       "      <td>stori kohinoor koh noor diamond</td>\n",
       "      <td>would happen indian govern stole kohinoor koh ...</td>\n",
       "      <td>0</td>\n",
       "      <td>stori kohinoor koh noor diamond would happen i...</td>\n",
       "    </tr>\n",
       "    <tr>\n",
       "      <th>2</th>\n",
       "      <td>2</td>\n",
       "      <td>5</td>\n",
       "      <td>6</td>\n",
       "      <td>increas speed internet connect use vpn</td>\n",
       "      <td>internet speed increas hack dn</td>\n",
       "      <td>0</td>\n",
       "      <td>increas speed internet connect use vpn interne...</td>\n",
       "    </tr>\n",
       "    <tr>\n",
       "      <th>3</th>\n",
       "      <td>3</td>\n",
       "      <td>7</td>\n",
       "      <td>8</td>\n",
       "      <td>whi mental veri lone solv</td>\n",
       "      <td>find remaind math math divid</td>\n",
       "      <td>0</td>\n",
       "      <td>whi mental veri lone solv find remaind math ma...</td>\n",
       "    </tr>\n",
       "    <tr>\n",
       "      <th>4</th>\n",
       "      <td>4</td>\n",
       "      <td>9</td>\n",
       "      <td>10</td>\n",
       "      <td>one dissolv water quikli sugar salt methan car...</td>\n",
       "      <td>fish would surviv salt water</td>\n",
       "      <td>0</td>\n",
       "      <td>one dissolv water quikli sugar salt methan car...</td>\n",
       "    </tr>\n",
       "  </tbody>\n",
       "</table>\n",
       "</div>"
      ],
      "text/plain": [
       "   id  qid1  qid2                                          question1  \\\n",
       "0   0     1     2           step step guid invest share market india   \n",
       "1   1     3     4                    stori kohinoor koh noor diamond   \n",
       "2   2     5     6             increas speed internet connect use vpn   \n",
       "3   3     7     8                          whi mental veri lone solv   \n",
       "4   4     9    10  one dissolv water quikli sugar salt methan car...   \n",
       "\n",
       "                                           question2  is_duplicate  \\\n",
       "0                 step step guid invest share market             0   \n",
       "1  would happen indian govern stole kohinoor koh ...             0   \n",
       "2                     internet speed increas hack dn             0   \n",
       "3                       find remaind math math divid             0   \n",
       "4                       fish would surviv salt water             0   \n",
       "\n",
       "                                             q_pairs  \n",
       "0  step step guid invest share market india step ...  \n",
       "1  stori kohinoor koh noor diamond would happen i...  \n",
       "2  increas speed internet connect use vpn interne...  \n",
       "3  whi mental veri lone solv find remaind math ma...  \n",
       "4  one dissolv water quikli sugar salt methan car...  "
      ]
     },
     "metadata": {},
     "output_type": "display_data"
    },
    {
     "data": {
      "text/html": [
       "<div>\n",
       "<style scoped>\n",
       "    .dataframe tbody tr th:only-of-type {\n",
       "        vertical-align: middle;\n",
       "    }\n",
       "\n",
       "    .dataframe tbody tr th {\n",
       "        vertical-align: top;\n",
       "    }\n",
       "\n",
       "    .dataframe thead th {\n",
       "        text-align: right;\n",
       "    }\n",
       "</style>\n",
       "<table border=\"1\" class=\"dataframe\">\n",
       "  <thead>\n",
       "    <tr style=\"text-align: right;\">\n",
       "      <th></th>\n",
       "      <th>id</th>\n",
       "      <th>qid1</th>\n",
       "      <th>qid2</th>\n",
       "      <th>q1_list</th>\n",
       "      <th>q2_list</th>\n",
       "      <th>is_duplicate</th>\n",
       "      <th>q_pairs</th>\n",
       "    </tr>\n",
       "  </thead>\n",
       "  <tbody>\n",
       "    <tr>\n",
       "      <th>0</th>\n",
       "      <td>0</td>\n",
       "      <td>1</td>\n",
       "      <td>2</td>\n",
       "      <td>[step, step, guid, invest, share, market, india]</td>\n",
       "      <td>[step, step, guid, invest, share, market]</td>\n",
       "      <td>0</td>\n",
       "      <td>[step, step, guid, invest, share, market, indi...</td>\n",
       "    </tr>\n",
       "    <tr>\n",
       "      <th>1</th>\n",
       "      <td>1</td>\n",
       "      <td>3</td>\n",
       "      <td>4</td>\n",
       "      <td>[stori, kohinoor, koh, noor, diamond]</td>\n",
       "      <td>[would, happen, indian, govern, stole, kohinoo...</td>\n",
       "      <td>0</td>\n",
       "      <td>[stori, kohinoor, koh, noor, diamond, would, h...</td>\n",
       "    </tr>\n",
       "    <tr>\n",
       "      <th>2</th>\n",
       "      <td>2</td>\n",
       "      <td>5</td>\n",
       "      <td>6</td>\n",
       "      <td>[increa, speed, internet, connect, use, vpn]</td>\n",
       "      <td>[internet, speed, increa, hack, dn]</td>\n",
       "      <td>0</td>\n",
       "      <td>[increa, speed, internet, connect, use, vpn, i...</td>\n",
       "    </tr>\n",
       "    <tr>\n",
       "      <th>3</th>\n",
       "      <td>3</td>\n",
       "      <td>7</td>\n",
       "      <td>8</td>\n",
       "      <td>[whi, mental, veri, lone, solv]</td>\n",
       "      <td>[find, remaind, math, math, divid]</td>\n",
       "      <td>0</td>\n",
       "      <td>[whi, mental, veri, lone, solv, find, remaind,...</td>\n",
       "    </tr>\n",
       "    <tr>\n",
       "      <th>4</th>\n",
       "      <td>4</td>\n",
       "      <td>9</td>\n",
       "      <td>10</td>\n",
       "      <td>[one, dissolv, water, quikli, sugar, salt, met...</td>\n",
       "      <td>[fish, would, surviv, salt, water]</td>\n",
       "      <td>0</td>\n",
       "      <td>[one, dissolv, water, quikli, sugar, salt, met...</td>\n",
       "    </tr>\n",
       "  </tbody>\n",
       "</table>\n",
       "</div>"
      ],
      "text/plain": [
       "   id  qid1  qid2                                            q1_list  \\\n",
       "0   0     1     2   [step, step, guid, invest, share, market, india]   \n",
       "1   1     3     4              [stori, kohinoor, koh, noor, diamond]   \n",
       "2   2     5     6       [increa, speed, internet, connect, use, vpn]   \n",
       "3   3     7     8                    [whi, mental, veri, lone, solv]   \n",
       "4   4     9    10  [one, dissolv, water, quikli, sugar, salt, met...   \n",
       "\n",
       "                                             q2_list  is_duplicate  \\\n",
       "0          [step, step, guid, invest, share, market]             0   \n",
       "1  [would, happen, indian, govern, stole, kohinoo...             0   \n",
       "2                [internet, speed, increa, hack, dn]             0   \n",
       "3                 [find, remaind, math, math, divid]             0   \n",
       "4                 [fish, would, surviv, salt, water]             0   \n",
       "\n",
       "                                             q_pairs  \n",
       "0  [step, step, guid, invest, share, market, indi...  \n",
       "1  [stori, kohinoor, koh, noor, diamond, would, h...  \n",
       "2  [increa, speed, internet, connect, use, vpn, i...  \n",
       "3  [whi, mental, veri, lone, solv, find, remaind,...  \n",
       "4  [one, dissolv, water, quikli, sugar, salt, met...  "
      ]
     },
     "metadata": {},
     "output_type": "display_data"
    }
   ],
   "source": [
    "# STEP 1: \n",
    "# Uncommment - rerun notebook to cell above\n",
    "# df = q_difs.copy()\n",
    "\n",
    "# Paired questions in single column:\n",
    "df_str = df[['id',\t'qid1',\t'qid2',\t'question1',\t'question2',\t'is_duplicate']].copy()\n",
    "df_list = df[['id',\t'qid1',\t'qid2',\t'q1_list',\t'q2_list', 'is_duplicate']].copy()\n",
    "df_str['q_pairs'] = df['question1'] + ' ' + df['question2']\n",
    "df_list['q_pairs'] = df['q1_list'] + df['q2_list']\n",
    "display(df_str.head())\n",
    "display(df_list.head())\n",
    "\n",
    "# Save to new variable in kernel:\n",
    "df_str_difs = df_str.copy()\n",
    "df_list_difs = df_list.copy()\n",
    "\n",
    "# Save data:\n",
    "df_str_difs.to_csv('../data/df_str_diff_questions.csv', index=False)\n",
    "df_list_difs.to_csv('../data/df_list_diff_questions.csv', index=False)"
   ]
  },
  {
   "attachments": {},
   "cell_type": "markdown",
   "metadata": {},
   "source": [
    "##### <p style=\"font-family:JetBrains Mono; text-align:right; padding-right: 10%;\">[Top Of Page](#a-predictive-natural-language-processing-model) / [TOC](#table-of-contents)</p>"
   ]
  },
  {
   "attachments": {},
   "cell_type": "markdown",
   "metadata": {},
   "source": [
    "#### <p style=\"font-family:JetBrains Mono; font-weight:normal; letter-spacing: 1px; color:#c8d43e; font-size:100%; text-align:left;padding: 0px; border-bottom: 1px solid #c8d43e;\">PROCESS DUPLICATE QUESTION PAIRS</p>"
   ]
  },
  {
   "cell_type": "code",
   "execution_count": 187,
   "metadata": {},
   "outputs": [
    {
     "data": {
      "text/html": [
       "<div>\n",
       "<style scoped>\n",
       "    .dataframe tbody tr th:only-of-type {\n",
       "        vertical-align: middle;\n",
       "    }\n",
       "\n",
       "    .dataframe tbody tr th {\n",
       "        vertical-align: top;\n",
       "    }\n",
       "\n",
       "    .dataframe thead th {\n",
       "        text-align: right;\n",
       "    }\n",
       "</style>\n",
       "<table border=\"1\" class=\"dataframe\">\n",
       "  <thead>\n",
       "    <tr style=\"text-align: right;\">\n",
       "      <th></th>\n",
       "      <th>id</th>\n",
       "      <th>qid1</th>\n",
       "      <th>qid2</th>\n",
       "      <th>question1</th>\n",
       "      <th>question2</th>\n",
       "      <th>is_duplicate</th>\n",
       "      <th>q_pairs</th>\n",
       "    </tr>\n",
       "  </thead>\n",
       "  <tbody>\n",
       "    <tr>\n",
       "      <th>0</th>\n",
       "      <td>5</td>\n",
       "      <td>11</td>\n",
       "      <td>12</td>\n",
       "      <td>astrolog capricorn sun cap moon cap rise doe say</td>\n",
       "      <td>tripl capricorn sun moon ascend capricorn doe ...</td>\n",
       "      <td>1</td>\n",
       "      <td>astrolog capricorn sun cap moon cap rise doe s...</td>\n",
       "    </tr>\n",
       "    <tr>\n",
       "      <th>1</th>\n",
       "      <td>7</td>\n",
       "      <td>15</td>\n",
       "      <td>16</td>\n",
       "      <td>good geologist</td>\n",
       "      <td>great geologist</td>\n",
       "      <td>1</td>\n",
       "      <td>good geologist great geologist</td>\n",
       "    </tr>\n",
       "    <tr>\n",
       "      <th>2</th>\n",
       "      <td>11</td>\n",
       "      <td>23</td>\n",
       "      <td>24</td>\n",
       "      <td>read find youtub comment</td>\n",
       "      <td>see youtub comment</td>\n",
       "      <td>1</td>\n",
       "      <td>read find youtub comment see youtub comment</td>\n",
       "    </tr>\n",
       "    <tr>\n",
       "      <th>3</th>\n",
       "      <td>12</td>\n",
       "      <td>25</td>\n",
       "      <td>26</td>\n",
       "      <td>make physic easi learn</td>\n",
       "      <td>make physic easi learn</td>\n",
       "      <td>1</td>\n",
       "      <td>make physic easi learn make physic easi learn</td>\n",
       "    </tr>\n",
       "    <tr>\n",
       "      <th>4</th>\n",
       "      <td>13</td>\n",
       "      <td>27</td>\n",
       "      <td>28</td>\n",
       "      <td>wa first sexual experi like</td>\n",
       "      <td>wa first sexual experi</td>\n",
       "      <td>1</td>\n",
       "      <td>wa first sexual experi like wa first sexual ex...</td>\n",
       "    </tr>\n",
       "  </tbody>\n",
       "</table>\n",
       "</div>"
      ],
      "text/plain": [
       "   id  qid1  qid2                                         question1  \\\n",
       "0   5    11    12  astrolog capricorn sun cap moon cap rise doe say   \n",
       "1   7    15    16                                    good geologist   \n",
       "2  11    23    24                          read find youtub comment   \n",
       "3  12    25    26                            make physic easi learn   \n",
       "4  13    27    28                       wa first sexual experi like   \n",
       "\n",
       "                                           question2  is_duplicate  \\\n",
       "0  tripl capricorn sun moon ascend capricorn doe ...             1   \n",
       "1                                    great geologist             1   \n",
       "2                                 see youtub comment             1   \n",
       "3                             make physic easi learn             1   \n",
       "4                             wa first sexual experi             1   \n",
       "\n",
       "                                             q_pairs  \n",
       "0  astrolog capricorn sun cap moon cap rise doe s...  \n",
       "1                     good geologist great geologist  \n",
       "2        read find youtub comment see youtub comment  \n",
       "3      make physic easi learn make physic easi learn  \n",
       "4  wa first sexual experi like wa first sexual ex...  "
      ]
     },
     "metadata": {},
     "output_type": "display_data"
    },
    {
     "data": {
      "text/html": [
       "<div>\n",
       "<style scoped>\n",
       "    .dataframe tbody tr th:only-of-type {\n",
       "        vertical-align: middle;\n",
       "    }\n",
       "\n",
       "    .dataframe tbody tr th {\n",
       "        vertical-align: top;\n",
       "    }\n",
       "\n",
       "    .dataframe thead th {\n",
       "        text-align: right;\n",
       "    }\n",
       "</style>\n",
       "<table border=\"1\" class=\"dataframe\">\n",
       "  <thead>\n",
       "    <tr style=\"text-align: right;\">\n",
       "      <th></th>\n",
       "      <th>id</th>\n",
       "      <th>qid1</th>\n",
       "      <th>qid2</th>\n",
       "      <th>q1_list</th>\n",
       "      <th>q2_list</th>\n",
       "      <th>is_duplicate</th>\n",
       "      <th>q_pairs</th>\n",
       "    </tr>\n",
       "  </thead>\n",
       "  <tbody>\n",
       "    <tr>\n",
       "      <th>0</th>\n",
       "      <td>5</td>\n",
       "      <td>11</td>\n",
       "      <td>12</td>\n",
       "      <td>[astrolog, capricorn, sun, cap, moon, cap, ris...</td>\n",
       "      <td>[tripl, capricorn, sun, moon, ascend, capricor...</td>\n",
       "      <td>1</td>\n",
       "      <td>[astrolog, capricorn, sun, cap, moon, cap, ris...</td>\n",
       "    </tr>\n",
       "    <tr>\n",
       "      <th>1</th>\n",
       "      <td>7</td>\n",
       "      <td>15</td>\n",
       "      <td>16</td>\n",
       "      <td>[good, geologist]</td>\n",
       "      <td>[great, geologist]</td>\n",
       "      <td>1</td>\n",
       "      <td>[good, geologist, great, geologist]</td>\n",
       "    </tr>\n",
       "    <tr>\n",
       "      <th>2</th>\n",
       "      <td>11</td>\n",
       "      <td>23</td>\n",
       "      <td>24</td>\n",
       "      <td>[read, find, youtub, comment]</td>\n",
       "      <td>[see, youtub, comment]</td>\n",
       "      <td>1</td>\n",
       "      <td>[read, find, youtub, comment, see, youtub, com...</td>\n",
       "    </tr>\n",
       "    <tr>\n",
       "      <th>3</th>\n",
       "      <td>12</td>\n",
       "      <td>25</td>\n",
       "      <td>26</td>\n",
       "      <td>[make, physic, easi, learn]</td>\n",
       "      <td>[make, physic, easi, learn]</td>\n",
       "      <td>1</td>\n",
       "      <td>[make, physic, easi, learn, make, physic, easi...</td>\n",
       "    </tr>\n",
       "    <tr>\n",
       "      <th>4</th>\n",
       "      <td>13</td>\n",
       "      <td>27</td>\n",
       "      <td>28</td>\n",
       "      <td>[wa, first, sexual, experi, like]</td>\n",
       "      <td>[wa, first, sexual, experi]</td>\n",
       "      <td>1</td>\n",
       "      <td>[wa, first, sexual, experi, like, wa, first, s...</td>\n",
       "    </tr>\n",
       "  </tbody>\n",
       "</table>\n",
       "</div>"
      ],
      "text/plain": [
       "   id  qid1  qid2                                            q1_list  \\\n",
       "0   5    11    12  [astrolog, capricorn, sun, cap, moon, cap, ris...   \n",
       "1   7    15    16                                  [good, geologist]   \n",
       "2  11    23    24                      [read, find, youtub, comment]   \n",
       "3  12    25    26                        [make, physic, easi, learn]   \n",
       "4  13    27    28                  [wa, first, sexual, experi, like]   \n",
       "\n",
       "                                             q2_list  is_duplicate  \\\n",
       "0  [tripl, capricorn, sun, moon, ascend, capricor...             1   \n",
       "1                                 [great, geologist]             1   \n",
       "2                             [see, youtub, comment]             1   \n",
       "3                        [make, physic, easi, learn]             1   \n",
       "4                        [wa, first, sexual, experi]             1   \n",
       "\n",
       "                                             q_pairs  \n",
       "0  [astrolog, capricorn, sun, cap, moon, cap, ris...  \n",
       "1                [good, geologist, great, geologist]  \n",
       "2  [read, find, youtub, comment, see, youtub, com...  \n",
       "3  [make, physic, easi, learn, make, physic, easi...  \n",
       "4  [wa, first, sexual, experi, like, wa, first, s...  "
      ]
     },
     "metadata": {},
     "output_type": "display_data"
    }
   ],
   "source": [
    "\n",
    "# STEP 1: \n",
    "# Uncommment - rerun notebook to cell above\n",
    "# df = q_dups.copy()\n",
    "\n",
    "# Paired questions in single column:\n",
    "df_str = df[['id',\t'qid1',\t'qid2',\t'question1',\t'question2',\t'is_duplicate']].copy()\n",
    "df_list = df[['id',\t'qid1',\t'qid2',\t'q1_list',\t'q2_list', 'is_duplicate']].copy()\n",
    "df_str['q_pairs'] = df['question1'] + ' ' + df['question2']\n",
    "df_list['q_pairs'] = df['q1_list'] + df['q2_list']\n",
    "display(df_str.head())\n",
    "display(df_list.head())\n",
    "\n",
    "# Save to new variable in kernel:\n",
    "df_str_dups = df_str.copy()\n",
    "df_list_dups = df_list.copy()\n",
    "\n",
    "# Save data:\n",
    "df_str_dups.to_csv('../data/df_str_dupl_questions.csv', index=False)\n",
    "df_list_dups.to_csv('../data/df_list_dupl_questions.csv', index=False)"
   ]
  },
  {
   "cell_type": "code",
   "execution_count": 215,
   "metadata": {},
   "outputs": [],
   "source": [
    "from sklearn.feature_extraction.text import TfidfVectorizer"
   ]
  },
  {
   "cell_type": "code",
   "execution_count": 224,
   "metadata": {},
   "outputs": [],
   "source": [
    "def tfidf_vector_matrix(text, vect):\n",
    "    tfidf_matrix = vect.fit_transform(text)\n",
    "    X = pd.DataFrame(tfidf_matrix.toarray(), columns = vect.get_feature_names_out())\n",
    "    display(X)\n",
    "    return X.sum().to_dict()"
   ]
  },
  {
   "cell_type": "code",
   "execution_count": 225,
   "metadata": {},
   "outputs": [
    {
     "data": {
      "text/html": [
       "<div>\n",
       "<style scoped>\n",
       "    .dataframe tbody tr th:only-of-type {\n",
       "        vertical-align: middle;\n",
       "    }\n",
       "\n",
       "    .dataframe tbody tr th {\n",
       "        vertical-align: top;\n",
       "    }\n",
       "\n",
       "    .dataframe thead th {\n",
       "        text-align: right;\n",
       "    }\n",
       "</style>\n",
       "<table border=\"1\" class=\"dataframe\">\n",
       "  <thead>\n",
       "    <tr style=\"text-align: right;\">\n",
       "      <th></th>\n",
       "      <th>guid</th>\n",
       "      <th>india</th>\n",
       "      <th>invest</th>\n",
       "      <th>market</th>\n",
       "      <th>share</th>\n",
       "      <th>step</th>\n",
       "    </tr>\n",
       "  </thead>\n",
       "  <tbody>\n",
       "    <tr>\n",
       "      <th>0</th>\n",
       "      <td>0.0</td>\n",
       "      <td>0.0</td>\n",
       "      <td>0.0</td>\n",
       "      <td>0.0</td>\n",
       "      <td>0.0</td>\n",
       "      <td>1.0</td>\n",
       "    </tr>\n",
       "    <tr>\n",
       "      <th>1</th>\n",
       "      <td>0.0</td>\n",
       "      <td>0.0</td>\n",
       "      <td>0.0</td>\n",
       "      <td>0.0</td>\n",
       "      <td>0.0</td>\n",
       "      <td>1.0</td>\n",
       "    </tr>\n",
       "    <tr>\n",
       "      <th>2</th>\n",
       "      <td>1.0</td>\n",
       "      <td>0.0</td>\n",
       "      <td>0.0</td>\n",
       "      <td>0.0</td>\n",
       "      <td>0.0</td>\n",
       "      <td>0.0</td>\n",
       "    </tr>\n",
       "    <tr>\n",
       "      <th>3</th>\n",
       "      <td>0.0</td>\n",
       "      <td>0.0</td>\n",
       "      <td>1.0</td>\n",
       "      <td>0.0</td>\n",
       "      <td>0.0</td>\n",
       "      <td>0.0</td>\n",
       "    </tr>\n",
       "    <tr>\n",
       "      <th>4</th>\n",
       "      <td>0.0</td>\n",
       "      <td>0.0</td>\n",
       "      <td>0.0</td>\n",
       "      <td>0.0</td>\n",
       "      <td>1.0</td>\n",
       "      <td>0.0</td>\n",
       "    </tr>\n",
       "    <tr>\n",
       "      <th>5</th>\n",
       "      <td>0.0</td>\n",
       "      <td>0.0</td>\n",
       "      <td>0.0</td>\n",
       "      <td>1.0</td>\n",
       "      <td>0.0</td>\n",
       "      <td>0.0</td>\n",
       "    </tr>\n",
       "    <tr>\n",
       "      <th>6</th>\n",
       "      <td>0.0</td>\n",
       "      <td>1.0</td>\n",
       "      <td>0.0</td>\n",
       "      <td>0.0</td>\n",
       "      <td>0.0</td>\n",
       "      <td>0.0</td>\n",
       "    </tr>\n",
       "    <tr>\n",
       "      <th>7</th>\n",
       "      <td>0.0</td>\n",
       "      <td>0.0</td>\n",
       "      <td>0.0</td>\n",
       "      <td>0.0</td>\n",
       "      <td>0.0</td>\n",
       "      <td>1.0</td>\n",
       "    </tr>\n",
       "    <tr>\n",
       "      <th>8</th>\n",
       "      <td>0.0</td>\n",
       "      <td>0.0</td>\n",
       "      <td>0.0</td>\n",
       "      <td>0.0</td>\n",
       "      <td>0.0</td>\n",
       "      <td>1.0</td>\n",
       "    </tr>\n",
       "    <tr>\n",
       "      <th>9</th>\n",
       "      <td>1.0</td>\n",
       "      <td>0.0</td>\n",
       "      <td>0.0</td>\n",
       "      <td>0.0</td>\n",
       "      <td>0.0</td>\n",
       "      <td>0.0</td>\n",
       "    </tr>\n",
       "    <tr>\n",
       "      <th>10</th>\n",
       "      <td>0.0</td>\n",
       "      <td>0.0</td>\n",
       "      <td>1.0</td>\n",
       "      <td>0.0</td>\n",
       "      <td>0.0</td>\n",
       "      <td>0.0</td>\n",
       "    </tr>\n",
       "    <tr>\n",
       "      <th>11</th>\n",
       "      <td>0.0</td>\n",
       "      <td>0.0</td>\n",
       "      <td>0.0</td>\n",
       "      <td>0.0</td>\n",
       "      <td>1.0</td>\n",
       "      <td>0.0</td>\n",
       "    </tr>\n",
       "    <tr>\n",
       "      <th>12</th>\n",
       "      <td>0.0</td>\n",
       "      <td>0.0</td>\n",
       "      <td>0.0</td>\n",
       "      <td>1.0</td>\n",
       "      <td>0.0</td>\n",
       "      <td>0.0</td>\n",
       "    </tr>\n",
       "  </tbody>\n",
       "</table>\n",
       "</div>"
      ],
      "text/plain": [
       "    guid  india  invest  market  share  step\n",
       "0    0.0    0.0     0.0     0.0    0.0   1.0\n",
       "1    0.0    0.0     0.0     0.0    0.0   1.0\n",
       "2    1.0    0.0     0.0     0.0    0.0   0.0\n",
       "3    0.0    0.0     1.0     0.0    0.0   0.0\n",
       "4    0.0    0.0     0.0     0.0    1.0   0.0\n",
       "5    0.0    0.0     0.0     1.0    0.0   0.0\n",
       "6    0.0    1.0     0.0     0.0    0.0   0.0\n",
       "7    0.0    0.0     0.0     0.0    0.0   1.0\n",
       "8    0.0    0.0     0.0     0.0    0.0   1.0\n",
       "9    1.0    0.0     0.0     0.0    0.0   0.0\n",
       "10   0.0    0.0     1.0     0.0    0.0   0.0\n",
       "11   0.0    0.0     0.0     0.0    1.0   0.0\n",
       "12   0.0    0.0     0.0     1.0    0.0   0.0"
      ]
     },
     "metadata": {},
     "output_type": "display_data"
    },
    {
     "data": {
      "text/plain": [
       "{'guid': 2.0,\n",
       " 'india': 1.0,\n",
       " 'invest': 2.0,\n",
       " 'market': 2.0,\n",
       " 'share': 2.0,\n",
       " 'step': 4.0}"
      ]
     },
     "execution_count": 225,
     "metadata": {},
     "output_type": "execute_result"
    }
   ],
   "source": [
    "tfidf_vector_matrix(df_list_difs['q_pairs'][0], vect)"
   ]
  },
  {
   "cell_type": "code",
   "execution_count": 227,
   "metadata": {},
   "outputs": [
    {
     "ename": "TypeError",
     "evalue": "list indices must be integers or slices, not str",
     "output_type": "error",
     "traceback": [
      "\u001b[0;31m---------------------------------------------------------------------------\u001b[0m",
      "\u001b[0;31mTypeError\u001b[0m                                 Traceback (most recent call last)",
      "Cell \u001b[0;32mIn[227], line 1\u001b[0m\n\u001b[0;32m----> 1\u001b[0m df_str_difs \u001b[39m=\u001b[39m \u001b[39mlist\u001b[39m(df_str_difs[\u001b[39m'\u001b[39;49m\u001b[39mq_pairs\u001b[39;49m\u001b[39m'\u001b[39;49m])\n\u001b[1;32m      3\u001b[0m \u001b[39mfor\u001b[39;00m q \u001b[39min\u001b[39;00m df_str_difs[:\u001b[39m5\u001b[39m]:\n\u001b[1;32m      4\u001b[0m   q_dict_list \u001b[39m=\u001b[39m []\n",
      "\u001b[0;31mTypeError\u001b[0m: list indices must be integers or slices, not str"
     ]
    }
   ],
   "source": [
    "df_str_difs = list(df_str_difs['q_pairs'])\n",
    "\n",
    "for q in df_str_difs[:5]:\n",
    "  q_dict_list = []\n",
    "  X = tfidf_vector_matrix(df_list_difs['q_pairs'][q], vect)\n",
    "  q_dict_list.append(X.sum().to_dict())\n",
    "\n",
    "q_dict_list"
   ]
  },
  {
   "cell_type": "code",
   "execution_count": 220,
   "metadata": {},
   "outputs": [
    {
     "ename": "TypeError",
     "evalue": "'method' object is not iterable",
     "output_type": "error",
     "traceback": [
      "\u001b[0;31m---------------------------------------------------------------------------\u001b[0m",
      "\u001b[0;31mTypeError\u001b[0m                                 Traceback (most recent call last)",
      "Cell \u001b[0;32mIn[220], line 9\u001b[0m\n\u001b[1;32m      2\u001b[0m \u001b[39m# input_ = df_str_dups['q_pairs']\u001b[39;00m\n\u001b[1;32m      3\u001b[0m \n\u001b[1;32m      4\u001b[0m \u001b[39m# for str in df_str_difs['q_pairs']:\u001b[39;00m\n\u001b[1;32m      5\u001b[0m \u001b[39m#   vect = TfidfVectorizer(strip_accents = 'ascii')\u001b[39;00m\n\u001b[1;32m      6\u001b[0m \u001b[39m#   X = vect.fit_transform(input)\u001b[39;00m\n\u001b[1;32m      8\u001b[0m vect \u001b[39m=\u001b[39m TfidfVectorizer(strip_accents \u001b[39m=\u001b[39m \u001b[39m'\u001b[39m\u001b[39mascii\u001b[39m\u001b[39m'\u001b[39m)\n\u001b[0;32m----> 9\u001b[0m X \u001b[39m=\u001b[39m vect\u001b[39m.\u001b[39;49mfit_transform(\u001b[39minput\u001b[39;49m)\n",
      "File \u001b[0;32m/opt/homebrew/Caskroom/miniforge/base/envs/base_env/lib/python3.10/site-packages/sklearn/feature_extraction/text.py:2121\u001b[0m, in \u001b[0;36mTfidfVectorizer.fit_transform\u001b[0;34m(self, raw_documents, y)\u001b[0m\n\u001b[1;32m   2114\u001b[0m \u001b[39mself\u001b[39m\u001b[39m.\u001b[39m_check_params()\n\u001b[1;32m   2115\u001b[0m \u001b[39mself\u001b[39m\u001b[39m.\u001b[39m_tfidf \u001b[39m=\u001b[39m TfidfTransformer(\n\u001b[1;32m   2116\u001b[0m     norm\u001b[39m=\u001b[39m\u001b[39mself\u001b[39m\u001b[39m.\u001b[39mnorm,\n\u001b[1;32m   2117\u001b[0m     use_idf\u001b[39m=\u001b[39m\u001b[39mself\u001b[39m\u001b[39m.\u001b[39muse_idf,\n\u001b[1;32m   2118\u001b[0m     smooth_idf\u001b[39m=\u001b[39m\u001b[39mself\u001b[39m\u001b[39m.\u001b[39msmooth_idf,\n\u001b[1;32m   2119\u001b[0m     sublinear_tf\u001b[39m=\u001b[39m\u001b[39mself\u001b[39m\u001b[39m.\u001b[39msublinear_tf,\n\u001b[1;32m   2120\u001b[0m )\n\u001b[0;32m-> 2121\u001b[0m X \u001b[39m=\u001b[39m \u001b[39msuper\u001b[39;49m()\u001b[39m.\u001b[39;49mfit_transform(raw_documents)\n\u001b[1;32m   2122\u001b[0m \u001b[39mself\u001b[39m\u001b[39m.\u001b[39m_tfidf\u001b[39m.\u001b[39mfit(X)\n\u001b[1;32m   2123\u001b[0m \u001b[39m# X is already a transformed view of raw_documents so\u001b[39;00m\n\u001b[1;32m   2124\u001b[0m \u001b[39m# we set copy to False\u001b[39;00m\n",
      "File \u001b[0;32m/opt/homebrew/Caskroom/miniforge/base/envs/base_env/lib/python3.10/site-packages/sklearn/feature_extraction/text.py:1377\u001b[0m, in \u001b[0;36mCountVectorizer.fit_transform\u001b[0;34m(self, raw_documents, y)\u001b[0m\n\u001b[1;32m   1369\u001b[0m             warnings\u001b[39m.\u001b[39mwarn(\n\u001b[1;32m   1370\u001b[0m                 \u001b[39m\"\u001b[39m\u001b[39mUpper case characters found in\u001b[39m\u001b[39m\"\u001b[39m\n\u001b[1;32m   1371\u001b[0m                 \u001b[39m\"\u001b[39m\u001b[39m vocabulary while \u001b[39m\u001b[39m'\u001b[39m\u001b[39mlowercase\u001b[39m\u001b[39m'\u001b[39m\u001b[39m\"\u001b[39m\n\u001b[1;32m   1372\u001b[0m                 \u001b[39m\"\u001b[39m\u001b[39m is True. These entries will not\u001b[39m\u001b[39m\"\u001b[39m\n\u001b[1;32m   1373\u001b[0m                 \u001b[39m\"\u001b[39m\u001b[39m be matched with any documents\u001b[39m\u001b[39m\"\u001b[39m\n\u001b[1;32m   1374\u001b[0m             )\n\u001b[1;32m   1375\u001b[0m             \u001b[39mbreak\u001b[39;00m\n\u001b[0;32m-> 1377\u001b[0m vocabulary, X \u001b[39m=\u001b[39m \u001b[39mself\u001b[39;49m\u001b[39m.\u001b[39;49m_count_vocab(raw_documents, \u001b[39mself\u001b[39;49m\u001b[39m.\u001b[39;49mfixed_vocabulary_)\n\u001b[1;32m   1379\u001b[0m \u001b[39mif\u001b[39;00m \u001b[39mself\u001b[39m\u001b[39m.\u001b[39mbinary:\n\u001b[1;32m   1380\u001b[0m     X\u001b[39m.\u001b[39mdata\u001b[39m.\u001b[39mfill(\u001b[39m1\u001b[39m)\n",
      "File \u001b[0;32m/opt/homebrew/Caskroom/miniforge/base/envs/base_env/lib/python3.10/site-packages/sklearn/feature_extraction/text.py:1262\u001b[0m, in \u001b[0;36mCountVectorizer._count_vocab\u001b[0;34m(self, raw_documents, fixed_vocab)\u001b[0m\n\u001b[1;32m   1260\u001b[0m values \u001b[39m=\u001b[39m _make_int_array()\n\u001b[1;32m   1261\u001b[0m indptr\u001b[39m.\u001b[39mappend(\u001b[39m0\u001b[39m)\n\u001b[0;32m-> 1262\u001b[0m \u001b[39mfor\u001b[39;00m doc \u001b[39min\u001b[39;00m raw_documents:\n\u001b[1;32m   1263\u001b[0m     feature_counter \u001b[39m=\u001b[39m {}\n\u001b[1;32m   1264\u001b[0m     \u001b[39mfor\u001b[39;00m feature \u001b[39min\u001b[39;00m analyze(doc):\n",
      "\u001b[0;31mTypeError\u001b[0m: 'method' object is not iterable"
     ]
    }
   ],
   "source": [
    "input_ = df_list_difs['q_pairs'][0]\n",
    "# input_ = df_str_dups['q_pairs']\n",
    "\n",
    "\n",
    "\n",
    "vect = TfidfVectorizer(strip_accents = 'ascii')\n",
    "X = vect.fit_transform(input)"
   ]
  },
  {
   "cell_type": "code",
   "execution_count": null,
   "metadata": {},
   "outputs": [],
   "source": [
    "dict['id'][i]['qid1'] = df_preprocessed[qid1[i]]\n",
    "dict['id'][i]['q1_list'].append(df_preprocessed[q1_list_id[i]])\n",
    "dict['id'][i]['q1_list'].append(df_preprocessed[q1_list_id[i]])\n"
   ]
  },
  {
   "cell_type": "code",
   "execution_count": null,
   "metadata": {},
   "outputs": [
    {
     "data": {
      "text/html": [
       "<div>\n",
       "<style scoped>\n",
       "    .dataframe tbody tr th:only-of-type {\n",
       "        vertical-align: middle;\n",
       "    }\n",
       "\n",
       "    .dataframe tbody tr th {\n",
       "        vertical-align: top;\n",
       "    }\n",
       "\n",
       "    .dataframe thead th {\n",
       "        text-align: right;\n",
       "    }\n",
       "</style>\n",
       "<table border=\"1\" class=\"dataframe\">\n",
       "  <thead>\n",
       "    <tr style=\"text-align: right;\">\n",
       "      <th></th>\n",
       "      <th>guid</th>\n",
       "      <th>india</th>\n",
       "      <th>invest</th>\n",
       "      <th>market</th>\n",
       "      <th>share</th>\n",
       "      <th>step</th>\n",
       "    </tr>\n",
       "  </thead>\n",
       "  <tbody>\n",
       "    <tr>\n",
       "      <th>0</th>\n",
       "      <td>0</td>\n",
       "      <td>0</td>\n",
       "      <td>0</td>\n",
       "      <td>0</td>\n",
       "      <td>0</td>\n",
       "      <td>1</td>\n",
       "    </tr>\n",
       "    <tr>\n",
       "      <th>1</th>\n",
       "      <td>0</td>\n",
       "      <td>0</td>\n",
       "      <td>0</td>\n",
       "      <td>0</td>\n",
       "      <td>0</td>\n",
       "      <td>1</td>\n",
       "    </tr>\n",
       "    <tr>\n",
       "      <th>2</th>\n",
       "      <td>1</td>\n",
       "      <td>0</td>\n",
       "      <td>0</td>\n",
       "      <td>0</td>\n",
       "      <td>0</td>\n",
       "      <td>0</td>\n",
       "    </tr>\n",
       "    <tr>\n",
       "      <th>3</th>\n",
       "      <td>0</td>\n",
       "      <td>0</td>\n",
       "      <td>1</td>\n",
       "      <td>0</td>\n",
       "      <td>0</td>\n",
       "      <td>0</td>\n",
       "    </tr>\n",
       "    <tr>\n",
       "      <th>4</th>\n",
       "      <td>0</td>\n",
       "      <td>0</td>\n",
       "      <td>0</td>\n",
       "      <td>0</td>\n",
       "      <td>1</td>\n",
       "      <td>0</td>\n",
       "    </tr>\n",
       "    <tr>\n",
       "      <th>5</th>\n",
       "      <td>0</td>\n",
       "      <td>0</td>\n",
       "      <td>0</td>\n",
       "      <td>1</td>\n",
       "      <td>0</td>\n",
       "      <td>0</td>\n",
       "    </tr>\n",
       "    <tr>\n",
       "      <th>6</th>\n",
       "      <td>0</td>\n",
       "      <td>1</td>\n",
       "      <td>0</td>\n",
       "      <td>0</td>\n",
       "      <td>0</td>\n",
       "      <td>0</td>\n",
       "    </tr>\n",
       "  </tbody>\n",
       "</table>\n",
       "</div>"
      ],
      "text/plain": [
       "   guid  india  invest  market  share  step\n",
       "0     0      0       0       0      0     1\n",
       "1     0      0       0       0      0     1\n",
       "2     1      0       0       0      0     0\n",
       "3     0      0       1       0      0     0\n",
       "4     0      0       0       0      1     0\n",
       "5     0      0       0       1      0     0\n",
       "6     0      1       0       0      0     0"
      ]
     },
     "execution_count": 43,
     "metadata": {},
     "output_type": "execute_result"
    }
   ],
   "source": [
    "df"
   ]
  },
  {
   "cell_type": "code",
   "execution_count": null,
   "metadata": {},
   "outputs": [
    {
     "data": {
      "text/html": [
       "<div>\n",
       "<style scoped>\n",
       "    .dataframe tbody tr th:only-of-type {\n",
       "        vertical-align: middle;\n",
       "    }\n",
       "\n",
       "    .dataframe tbody tr th {\n",
       "        vertical-align: top;\n",
       "    }\n",
       "\n",
       "    .dataframe thead th {\n",
       "        text-align: right;\n",
       "    }\n",
       "</style>\n",
       "<table border=\"1\" class=\"dataframe\">\n",
       "  <thead>\n",
       "    <tr style=\"text-align: right;\">\n",
       "      <th></th>\n",
       "      <th>id</th>\n",
       "      <th>qid1</th>\n",
       "      <th>qid2</th>\n",
       "      <th>question1</th>\n",
       "      <th>question2</th>\n",
       "      <th>is_duplicate</th>\n",
       "      <th>q1_list</th>\n",
       "      <th>q2_list</th>\n",
       "    </tr>\n",
       "  </thead>\n",
       "  <tbody>\n",
       "    <tr>\n",
       "      <th>0</th>\n",
       "      <td>0</td>\n",
       "      <td>1</td>\n",
       "      <td>2</td>\n",
       "      <td>step step guid invest share market india</td>\n",
       "      <td>step step guid invest share market</td>\n",
       "      <td>0</td>\n",
       "      <td>[step, step, guid, invest, share, market, india]</td>\n",
       "      <td>[step, step, guid, invest, share, market]</td>\n",
       "    </tr>\n",
       "    <tr>\n",
       "      <th>1</th>\n",
       "      <td>1</td>\n",
       "      <td>3</td>\n",
       "      <td>4</td>\n",
       "      <td>stori kohinoor koh noor diamond</td>\n",
       "      <td>would happen indian govern stole kohinoor koh ...</td>\n",
       "      <td>0</td>\n",
       "      <td>[stori, kohinoor, koh, noor, diamond]</td>\n",
       "      <td>[would, happen, indian, govern, stole, kohinoo...</td>\n",
       "    </tr>\n",
       "    <tr>\n",
       "      <th>2</th>\n",
       "      <td>2</td>\n",
       "      <td>5</td>\n",
       "      <td>6</td>\n",
       "      <td>increa speed internet connect use vpn</td>\n",
       "      <td>internet speed increa hack dn</td>\n",
       "      <td>0</td>\n",
       "      <td>[increa, speed, internet, connect, use, vpn]</td>\n",
       "      <td>[internet, speed, increa, hack, dn]</td>\n",
       "    </tr>\n",
       "    <tr>\n",
       "      <th>3</th>\n",
       "      <td>3</td>\n",
       "      <td>7</td>\n",
       "      <td>8</td>\n",
       "      <td>whi mental veri lone solv</td>\n",
       "      <td>find remaind math math divid</td>\n",
       "      <td>0</td>\n",
       "      <td>[whi, mental, veri, lone, solv]</td>\n",
       "      <td>[find, remaind, math, math, divid]</td>\n",
       "    </tr>\n",
       "    <tr>\n",
       "      <th>4</th>\n",
       "      <td>4</td>\n",
       "      <td>9</td>\n",
       "      <td>10</td>\n",
       "      <td>one dissolv water quikli sugar salt methan car...</td>\n",
       "      <td>fish would surviv salt water</td>\n",
       "      <td>0</td>\n",
       "      <td>[one, dissolv, water, quikli, sugar, salt, met...</td>\n",
       "      <td>[fish, would, surviv, salt, water]</td>\n",
       "    </tr>\n",
       "  </tbody>\n",
       "</table>\n",
       "</div>"
      ],
      "text/plain": [
       "   id  qid1  qid2                                          question1  \\\n",
       "0   0     1     2           step step guid invest share market india   \n",
       "1   1     3     4                    stori kohinoor koh noor diamond   \n",
       "2   2     5     6              increa speed internet connect use vpn   \n",
       "3   3     7     8                          whi mental veri lone solv   \n",
       "4   4     9    10  one dissolv water quikli sugar salt methan car...   \n",
       "\n",
       "                                           question2  is_duplicate  \\\n",
       "0                 step step guid invest share market             0   \n",
       "1  would happen indian govern stole kohinoor koh ...             0   \n",
       "2                      internet speed increa hack dn             0   \n",
       "3                       find remaind math math divid             0   \n",
       "4                       fish would surviv salt water             0   \n",
       "\n",
       "                                             q1_list  \\\n",
       "0   [step, step, guid, invest, share, market, india]   \n",
       "1              [stori, kohinoor, koh, noor, diamond]   \n",
       "2       [increa, speed, internet, connect, use, vpn]   \n",
       "3                    [whi, mental, veri, lone, solv]   \n",
       "4  [one, dissolv, water, quikli, sugar, salt, met...   \n",
       "\n",
       "                                             q2_list  \n",
       "0          [step, step, guid, invest, share, market]  \n",
       "1  [would, happen, indian, govern, stole, kohinoo...  \n",
       "2                [internet, speed, increa, hack, dn]  \n",
       "3                 [find, remaind, math, math, divid]  \n",
       "4                 [fish, would, surviv, salt, water]  "
      ]
     },
     "execution_count": 52,
     "metadata": {},
     "output_type": "execute_result"
    }
   ],
   "source": [
    "df = df_preprocessed.copy()\n",
    "df.head()"
   ]
  },
  {
   "cell_type": "code",
   "execution_count": null,
   "metadata": {},
   "outputs": [
    {
     "name": "stdout",
     "output_type": "stream",
     "text": [
      "1\n",
      "['step', 'step', 'guid', 'invest', 'share', 'market', 'india']\n"
     ]
    },
    {
     "ename": "TypeError",
     "evalue": "'function' object is not subscriptable",
     "output_type": "error",
     "traceback": [
      "\u001b[0;31m---------------------------------------------------------------------------\u001b[0m",
      "\u001b[0;31mTypeError\u001b[0m                                 Traceback (most recent call last)",
      "Cell \u001b[0;32mIn[60], line 4\u001b[0m\n\u001b[1;32m      2\u001b[0m \u001b[39mprint\u001b[39m(qid1[\u001b[39m0\u001b[39m])\n\u001b[1;32m      3\u001b[0m \u001b[39mprint\u001b[39m(q1_list[\u001b[39m0\u001b[39m])\n\u001b[0;32m----> 4\u001b[0m \u001b[39mprint\u001b[39m(bow_vector_matrix[q1_list[\u001b[39m0\u001b[39;49m]])\n\u001b[1;32m      5\u001b[0m \u001b[39mprint\u001b[39m(qid2[\u001b[39m0\u001b[39m])\n\u001b[1;32m      6\u001b[0m \u001b[39mprint\u001b[39m(q2_list[\u001b[39m0\u001b[39m])\n",
      "\u001b[0;31mTypeError\u001b[0m: 'function' object is not subscriptable"
     ]
    }
   ],
   "source": [
    "qid1[0]\n",
    "print(qid1[0])\n",
    "print(q1_list[0])\n",
    "print(bow_vector_matrix[q1_list[0]])\n",
    "print(qid2[0])\n",
    "print(q2_list[0])\n",
    "print(bow_vector_matrix[q2_list[0]])"
   ]
  },
  {
   "cell_type": "code",
   "execution_count": null,
   "metadata": {},
   "outputs": [
    {
     "ename": "NameError",
     "evalue": "name 'df' is not defined",
     "output_type": "error",
     "traceback": [
      "\u001b[0;31m---------------------------------------------------------------------------\u001b[0m",
      "\u001b[0;31mNameError\u001b[0m                                 Traceback (most recent call last)",
      "Cell \u001b[0;32mIn[2], line 2\u001b[0m\n\u001b[1;32m      1\u001b[0m \u001b[39m# Convert to list\u001b[39;00m\n\u001b[0;32m----> 2\u001b[0m qid1      \u001b[39m=\u001b[39m \u001b[39mlist\u001b[39m(df\u001b[39m.\u001b[39mqid1)\n\u001b[1;32m      3\u001b[0m qid2      \u001b[39m=\u001b[39m \u001b[39mlist\u001b[39m(df\u001b[39m.\u001b[39mqid2)\n\u001b[1;32m      4\u001b[0m question1 \u001b[39m=\u001b[39m \u001b[39mlist\u001b[39m(df\u001b[39m.\u001b[39mquestion1)\n",
      "\u001b[0;31mNameError\u001b[0m: name 'df' is not defined"
     ]
    }
   ],
   "source": [
    "# Convert to list\n",
    "qid1      = list(df.qid1)\n",
    "qid2      = list(df.qid2)\n",
    "question1 = list(df.question1)\n",
    "question2 = list(df.question2)\n",
    "q1_list   = list(df.q1_list)\n",
    "q2_list   = list(df.q2_list)\n",
    "\n",
    "my_dict = {}\n",
    "# for i in range(len(qid1)):\n",
    "for i in range(5):\n",
    "    q1_vector_count = bow_vector_matrix(q1_list[i], cv)\n",
    "    q2_vector_count = bow_vector_matrix(q2_list[i], cv)\n",
    "    id_num = dict[i]\n",
    "    id_num['qid1']             = qid1[i]\n",
    "    id_num['q1_list']          = q1_list[i]\n",
    "    id_num['q1_vector_count']  = q1_vector_count\n",
    "    id_num['qid2']             = qid2[i]\n",
    "    id_num['q2_list']          = q2_list[i]\n",
    "    id_num['q2_vector_count']  = q2_vector_count"
   ]
  },
  {
   "cell_type": "code",
   "execution_count": null,
   "metadata": {},
   "outputs": [
    {
     "data": {
      "text/plain": [
       "dict"
      ]
     },
     "execution_count": 1,
     "metadata": {},
     "output_type": "execute_result"
    }
   ],
   "source": [
    "dict"
   ]
  },
  {
   "cell_type": "code",
   "execution_count": null,
   "metadata": {},
   "outputs": [],
   "source": [
    "dict = {               # List Index number 0\n",
    "            'qid1':    #  = df.qid1[i]\n",
    "          , 'q1_list': []\n",
    "          , 'q1_vector_count': {}\n",
    "          , 'qid2': \n",
    "          , 'q2_list': []          # dict['id'][i]['qid1'] = df.qid1[i]\n",
    "          , 'q2_vector_count': {}     # dict['id'][i]['qid1'] = df.qid1[i]\n",
    "        },\n",
    "        {               # List Index number 1\n",
    "            'qid1': {\n",
    "                1: {\n",
    "                    'q1_list': [], \n",
    "                    'q1_vector_count': {}\n",
    "                }"
   ]
  },
  {
   "cell_type": "code",
   "execution_count": null,
   "metadata": {},
   "outputs": [
    {
     "data": {
      "text/html": [
       "<div>\n",
       "<style scoped>\n",
       "    .dataframe tbody tr th:only-of-type {\n",
       "        vertical-align: middle;\n",
       "    }\n",
       "\n",
       "    .dataframe tbody tr th {\n",
       "        vertical-align: top;\n",
       "    }\n",
       "\n",
       "    .dataframe thead th {\n",
       "        text-align: right;\n",
       "    }\n",
       "</style>\n",
       "<table border=\"1\" class=\"dataframe\">\n",
       "  <thead>\n",
       "    <tr style=\"text-align: right;\">\n",
       "      <th></th>\n",
       "      <th>guid</th>\n",
       "      <th>india</th>\n",
       "      <th>invest</th>\n",
       "      <th>market</th>\n",
       "      <th>share</th>\n",
       "      <th>step</th>\n",
       "    </tr>\n",
       "  </thead>\n",
       "  <tbody>\n",
       "    <tr>\n",
       "      <th>0</th>\n",
       "      <td>0</td>\n",
       "      <td>0</td>\n",
       "      <td>0</td>\n",
       "      <td>0</td>\n",
       "      <td>0</td>\n",
       "      <td>1</td>\n",
       "    </tr>\n",
       "    <tr>\n",
       "      <th>1</th>\n",
       "      <td>0</td>\n",
       "      <td>0</td>\n",
       "      <td>0</td>\n",
       "      <td>0</td>\n",
       "      <td>0</td>\n",
       "      <td>1</td>\n",
       "    </tr>\n",
       "    <tr>\n",
       "      <th>2</th>\n",
       "      <td>1</td>\n",
       "      <td>0</td>\n",
       "      <td>0</td>\n",
       "      <td>0</td>\n",
       "      <td>0</td>\n",
       "      <td>0</td>\n",
       "    </tr>\n",
       "    <tr>\n",
       "      <th>3</th>\n",
       "      <td>0</td>\n",
       "      <td>0</td>\n",
       "      <td>1</td>\n",
       "      <td>0</td>\n",
       "      <td>0</td>\n",
       "      <td>0</td>\n",
       "    </tr>\n",
       "    <tr>\n",
       "      <th>4</th>\n",
       "      <td>0</td>\n",
       "      <td>0</td>\n",
       "      <td>0</td>\n",
       "      <td>0</td>\n",
       "      <td>1</td>\n",
       "      <td>0</td>\n",
       "    </tr>\n",
       "    <tr>\n",
       "      <th>5</th>\n",
       "      <td>0</td>\n",
       "      <td>0</td>\n",
       "      <td>0</td>\n",
       "      <td>1</td>\n",
       "      <td>0</td>\n",
       "      <td>0</td>\n",
       "    </tr>\n",
       "    <tr>\n",
       "      <th>6</th>\n",
       "      <td>0</td>\n",
       "      <td>1</td>\n",
       "      <td>0</td>\n",
       "      <td>0</td>\n",
       "      <td>0</td>\n",
       "      <td>0</td>\n",
       "    </tr>\n",
       "  </tbody>\n",
       "</table>\n",
       "</div>"
      ],
      "text/plain": [
       "   guid  india  invest  market  share  step\n",
       "0     0      0       0       0      0     1\n",
       "1     0      0       0       0      0     1\n",
       "2     1      0       0       0      0     0\n",
       "3     0      0       1       0      0     0\n",
       "4     0      0       0       0      1     0\n",
       "5     0      0       0       1      0     0\n",
       "6     0      1       0       0      0     0"
      ]
     },
     "metadata": {},
     "output_type": "display_data"
    },
    {
     "data": {
      "text/plain": [
       "{'guid': 1, 'india': 1, 'invest': 1, 'market': 1, 'share': 1, 'step': 2}"
      ]
     },
     "execution_count": 48,
     "metadata": {},
     "output_type": "execute_result"
    }
   ],
   "source": [
    "bow_vector_matrix(q1_list_1d[0], cv)"
   ]
  },
  {
   "cell_type": "code",
   "execution_count": null,
   "metadata": {},
   "outputs": [],
   "source": [
    "for i, list in enumerate(q1_list_1d[:5]):\n",
    "    box = []\n",
    "    bow_vector_matrix()"
   ]
  },
  {
   "attachments": {},
   "cell_type": "markdown",
   "metadata": {},
   "source": [
    "[W9D1m8L]('../../../../../../Documents/LHL%20DS%20Bootcamp/Course%20work/W9/W9D1L_NLP-Pre-Processing_Vectorizing.ipynb')\n",
    "[W9D1m8L]('../../../../../../Documents/LHL%20DS%20Bootcamp/Course%20work/W9/W9D1L_NLP-Pre-Processing_Vectorizing.ipynb')"
   ]
  },
  {
   "cell_type": "code",
   "execution_count": null,
   "metadata": {},
   "outputs": [],
   "source": [
    "# Apply BOW vectorizer to series of text and return df results\n",
    "\n",
    "\n",
    "#example\n",
    "ex_text = pd.Series([\"The movie scary\", \" Tenet is a great movie\", \"Last movie I saw was in March\"])\n",
    "ex_text"
   ]
  },
  {
   "cell_type": "code",
   "execution_count": null,
   "metadata": {},
   "outputs": [],
   "source": [
    "create_doc_term_matrix(ex_text, vect)"
   ]
  },
  {
   "cell_type": "code",
   "execution_count": null,
   "metadata": {},
   "outputs": [],
   "source": [
    "vectorizer_input = messages['text_nostop'].apply(lambda x: \" \".join(x) )\n",
    "vectorizer_input"
   ]
  },
  {
   "cell_type": "code",
   "execution_count": null,
   "metadata": {},
   "outputs": [],
   "source": [
    "X = vect.fit_transform(vectorizer_input)\n",
    "type(X)"
   ]
  },
  {
   "cell_type": "code",
   "execution_count": null,
   "metadata": {},
   "outputs": [],
   "source": [
    "X.toarray()"
   ]
  },
  {
   "cell_type": "code",
   "execution_count": null,
   "metadata": {},
   "outputs": [],
   "source": [
    "#function that was defined earlier to view BoW as a DataFrame\n",
    "create_doc_term_matrix(vectorizer_input,CountVectorizer())"
   ]
  },
  {
   "attachments": {},
   "cell_type": "markdown",
   "metadata": {},
   "source": [
    "[W9D1m8]('../../../../../Documents/LHL%20DS%20Bootcamp/Course%20work/W9/W9D1m8_representations_bag_of_words.ipynb)"
   ]
  },
  {
   "cell_type": "code",
   "execution_count": null,
   "metadata": {},
   "outputs": [],
   "source": [
    "## 1. Bag of Words Model \n",
    "\n",
    "docs = [\"SUPERB, I AM IN LOVE IN THIS PHONE\", \"I hate this phone\"]\n",
    "\n",
    "words = list(set([word for doc in docs for word in doc.lower().split()]))\n",
    "vectors = []\n",
    "for doc in docs:\n",
    "    vectors.append([1 if word in doc.lower().split() else 0 for word in words])\n",
    "    \n",
    "print(\"vocabulary: \", words)   \n",
    "print(\"vectors: \", vectors)"
   ]
  },
  {
   "cell_type": "code",
   "execution_count": null,
   "metadata": {},
   "outputs": [],
   "source": [
    "## 2. Word Counts with CountVectorizer(scikit-learn)\n",
    "\n",
    "from sklearn.feature_extraction.text import CountVectorizer\n",
    "# list of documents\n",
    "docs = ['SUPERB, I AM IN LOVE IN THIS PHONE', 'I hate this phone']\n",
    "# create the transform\n",
    "vectorizer = CountVectorizer()\n",
    "# tokenize and build vocab\n",
    "vectorizer.fit(docs)\n",
    "print('vocabulary: ', vectorizer.vocabulary_)\n",
    "# encode document\n",
    "vector = vectorizer.transform(docs)\n",
    "# summarize encoded vector\n",
    "print('shape: ', vector.shape)\n",
    "print('vectors: \\n', vector.toarray())"
   ]
  },
  {
   "attachments": {},
   "cell_type": "markdown",
   "metadata": {},
   "source": [
    "##### <p style=\"font-family:JetBrains Mono; text-align:right; padding-right: 10%;\">[Top Of Page](#lighthouse-labs-mini-project-v-identifying-duplicate-questions) / [TOC](#table-of-contents)</p>\n"
   ]
  },
  {
   "attachments": {},
   "cell_type": "markdown",
   "metadata": {},
   "source": [
    "#### <p style=\"font-family:JetBrains Mono; font-weight:normal; letter-spacing: 1px; color:#c8d43e; font-size:100%; text-align:left;padding: 0px; border-bottom: 1px solid #c8d43e;\">TF-IDF</p>\n"
   ]
  },
  {
   "attachments": {},
   "cell_type": "markdown",
   "metadata": {},
   "source": [
    "[W9D1m12]('../../../../../Documents/LHL%20DS%20Bootcamp/Course%20work/W9/W9D1m12_NLP_representations_exercise.ipynb')\n",
    "\n",
    "* instantiate [TfidfTransformer()](https://scikit-learn.org/stable/modules/generated/sklearn.feature_extraction.text.TfidfTransformer.html) with the following parameters: \n",
    "    * smooth_idf = True\n",
    "    * use_idf = True"
   ]
  },
  {
   "cell_type": "code",
   "execution_count": null,
   "metadata": {},
   "outputs": [],
   "source": [
    "tfidf = TfidfTransformer(use_idf = True, smooth_idf = True)"
   ]
  },
  {
   "cell_type": "code",
   "execution_count": null,
   "metadata": {},
   "outputs": [],
   "source": [
    "tf_idf_data = tfidf.fit_transform(word_count_vector).toarray()\n",
    "tf_idf_data"
   ]
  },
  {
   "cell_type": "code",
   "execution_count": null,
   "metadata": {},
   "outputs": [],
   "source": []
  },
  {
   "cell_type": "code",
   "execution_count": null,
   "metadata": {},
   "outputs": [],
   "source": []
  },
  {
   "cell_type": "code",
   "execution_count": null,
   "metadata": {},
   "outputs": [],
   "source": []
  },
  {
   "attachments": {},
   "cell_type": "markdown",
   "metadata": {},
   "source": [
    "[W9D1m8]('../../../../../Documents/LHL%20DS%20Bootcamp/Course%20work/W9/W9D1m8_representations_bag_of_words.ipynb)\n"
   ]
  },
  {
   "cell_type": "code",
   "execution_count": null,
   "metadata": {},
   "outputs": [],
   "source": [
    "from sklearn.feature_extraction.text import TfidfVectorizer\n",
    "\n",
    "create_doc_term_matrix(ex_text,TfidfVectorizer(binary=True))"
   ]
  },
  {
   "cell_type": "code",
   "execution_count": null,
   "metadata": {},
   "outputs": [],
   "source": [
    "create_doc_term_matrix(ex_text,vect)\n",
    "messages.head()"
   ]
  },
  {
   "cell_type": "code",
   "execution_count": null,
   "metadata": {},
   "outputs": [],
   "source": [
    "# Fit a basic TFIDF Vectorizer and view the results\n",
    "tfidf_vect = TfidfVectorizer()\n",
    "X_tfidf = tfidf_vect.fit_transform(vectorizer_input)\n",
    "type(X_tfidf)"
   ]
  },
  {
   "cell_type": "code",
   "execution_count": null,
   "metadata": {},
   "outputs": [],
   "source": [
    "X_tfidf.toarray()"
   ]
  },
  {
   "cell_type": "code",
   "execution_count": null,
   "metadata": {},
   "outputs": [],
   "source": [
    "#function that was defined earlier to view TF-IDF result as a DataFrame\n",
    "create_doc_term_matrix(vectorizer_input,TfidfVectorizer())"
   ]
  },
  {
   "attachments": {},
   "cell_type": "markdown",
   "metadata": {},
   "source": [
    "##### <p style=\"font-family:JetBrains Mono; text-align:right; padding-right: 10%;\">[Top Of Page](#lighthouse-labs-mini-project-v-identifying-duplicate-questions) / [TOC](#table-of-contents)</p>\n"
   ]
  },
  {
   "attachments": {},
   "cell_type": "markdown",
   "metadata": {},
   "source": [
    "#### <p style=\"font-family:JetBrains Mono; font-weight:normal; letter-spacing: 1px; color:#c8d43e; font-size:100%; text-align:left;padding: 0px; border-bottom: 1px solid #c8d43e;\">WORD2VEC</p>"
   ]
  },
  {
   "cell_type": "code",
   "execution_count": null,
   "metadata": {},
   "outputs": [],
   "source": [
    "import gensim\n",
    "\n",
    "# Create CBoW model\n",
    "#size: output vector size\n",
    "#window: size of window for surrounding words\n",
    "#min_count: ignores all words that appear less than min_count times\n",
    "Model_CBoW = gensim.models.Word2Vec(messages['text_tokenized'], vector_size = 100, window = 5, min_count = 1)\n",
    "Model_CBoW.train\n",
    "\n",
    "#Vector represenation of the word 'king'\n",
    "Model_CBoW.wv['king']"
   ]
  },
  {
   "cell_type": "code",
   "execution_count": null,
   "metadata": {},
   "outputs": [],
   "source": [
    "# Find the most similar words to \"early\" based on word vectors from our trained model\n",
    "Model_CBoW.wv.most_similar('want')"
   ]
  },
  {
   "cell_type": "code",
   "execution_count": null,
   "metadata": {},
   "outputs": [],
   "source": [
    "# Create Skip Gram model (notice sg parameter)\n",
    "Model_SG = gensim.models.Word2Vec(messages['text_tokenized'], vector_size = 100, window = 3, min_count = 2, sg = 1)\n",
    "  \n",
    "#Vector represenation of the word 'king'\n",
    "Model_SG.wv['king'][:12]"
   ]
  },
  {
   "cell_type": "code",
   "execution_count": null,
   "metadata": {},
   "outputs": [],
   "source": [
    "# Find the most similar words to \"early\" based on word vectors from our trained model\n",
    "Model_SG.wv.most_similar('want')"
   ]
  },
  {
   "attachments": {},
   "cell_type": "markdown",
   "metadata": {},
   "source": [
    "#### Pre-trained word2vec models\n",
    "\n",
    "There are also pre-trained word2vec models. For example, [`word2vec-google-news-300`](https://code.google.com/archive/p/word2vec/) is trained on a Google News dataset consisting of about 100 billion words. The model consists of 300-dimensional vectors for 3 million words and phrases."
   ]
  },
  {
   "cell_type": "code",
   "execution_count": null,
   "metadata": {},
   "outputs": [],
   "source": [
    "import gensim.downloader as api\n",
    "\n",
    "google_news_300 = api.load('word2vec-google-news-300')\n",
    "google_news_300['king']"
   ]
  },
  {
   "cell_type": "code",
   "execution_count": null,
   "metadata": {},
   "outputs": [],
   "source": [
    "google_news_300.most_similar('now')"
   ]
  },
  {
   "attachments": {},
   "cell_type": "markdown",
   "metadata": {},
   "source": [
    "[W9D1m10]('../../../../../Documents/LHL%20DS%20Bootcamp/Course%20work/W9/W9D1m10_word2vec_from_google.ipynb)"
   ]
  },
  {
   "cell_type": "code",
   "execution_count": null,
   "metadata": {},
   "outputs": [],
   "source": [
    "import gensim\n",
    "# import \n",
    "\n",
    "# Load Google's pre-trained Word2Vec model.\n",
    "# model = gensim.models.Word2Vec.KeyedVectors.load_word2vec_format('../data/GoogleNews-vectors-negative300.bin', binary=True)  \n",
    "model = gensim.models.KeyedVectors.load_word2vec_format('../data/GoogleNews-vectors-negative300.bin', binary=True)  \n",
    "# model = KeyedVectors.load_word2vec_format('../data/GoogleNews-vectors-negative300.bin', binary=True)  \n",
    "vector = model['easy']\n",
    "# see the shape of the vector (300,)\n",
    "vector.shape"
   ]
  },
  {
   "cell_type": "code",
   "execution_count": null,
   "metadata": {},
   "outputs": [],
   "source": [
    "model.most_similar(\"nice\")"
   ]
  },
  {
   "cell_type": "code",
   "execution_count": null,
   "metadata": {},
   "outputs": [],
   "source": [
    "model.similarity(\"nice\", \"good\")"
   ]
  },
  {
   "cell_type": "code",
   "execution_count": null,
   "metadata": {},
   "outputs": [],
   "source": [
    "# Interesting\n",
    "model.similarity(\"bad\",\"good\")"
   ]
  },
  {
   "cell_type": "code",
   "execution_count": null,
   "metadata": {},
   "outputs": [],
   "source": [
    "# king - queen = man - woman\n",
    "model.most_similar(positive=['woman', 'king'], negative=['man'])"
   ]
  },
  {
   "attachments": {},
   "cell_type": "markdown",
   "metadata": {},
   "source": [
    "##### <p style=\"font-family:JetBrains Mono; text-align:right; padding-right: 10%;\">[Top Of Page](#lighthouse-labs-mini-project-v-identifying-duplicate-questions) / [TOC](#table-of-contents)</p>\n"
   ]
  },
  {
   "attachments": {},
   "cell_type": "markdown",
   "metadata": {},
   "source": [
    "#### <p style=\"font-family:JetBrains Mono; font-weight:normal; letter-spacing: 1px; color:#c8d43e; font-size:100%; text-align:left;padding: 0px; border-bottom: 1px solid #c8d43e;\">SENTIMENT ANALYSIS</p>\n",
    "\n",
    "[W9D2m2](../../../../../Documents/LHL%20DS%20Bootcamp/Course%20work/W9/W9D2m2_sentiment_analysis.ipynb)\n",
    "\n",
    "- [refrences](https://www.datacamp.com/tutorial/simplifying-sentiment-analysis-python)"
   ]
  },
  {
   "cell_type": "code",
   "execution_count": null,
   "metadata": {},
   "outputs": [],
   "source": [
    "\n",
    "\n",
    "# python -m nltk.downloader all\n",
    "# Load and prepare the dataset\n",
    "import nltk\n",
    "from nltk.corpus import movie_reviews\n",
    "import random\n",
    "\n",
    "# I think this is a ternary nested for loop in a for loop:\n",
    "documents = [\n",
    "  (list(movie_reviews.words(fileid)), category)\n",
    "              for category in movie_reviews.categories()\n",
    "              for fileid in movie_reviews.fileids(category)]\n",
    "\n",
    "random.shuffle(documents)\n",
    "\n",
    "# Define the feature extractor\n",
    "\n",
    "feature_extractor = nltk.FreqDist(w.lower() for w in movie_reviews.words())\n",
    "word_features = list(feature_extractor)[:2000]\n",
    "\n",
    "\n",
    "def document_features(document):\n",
    "    document_words = set(document)\n",
    "    features = {}\n",
    "    for word in word_features:\n",
    "        features['contains({})'.format(word)] = (word in document_words)\n",
    "    return features\n",
    "\n",
    "# Train Naive Bayes classifier\n",
    "featuresets = [(document_features(d), c) for (d,c) in documents]\n",
    "train_set, test_set = featuresets[100:], featuresets[:100]\n",
    "classifier = nltk.NaiveBayesClassifier.train(train_set)\n",
    "\n",
    "# Test the classifier\n",
    "print(nltk.classify.accuracy(classifier, test_set))\n",
    "\n",
    "# Show the most important features as interpreted by Naive Bayes\n",
    "classifier.show_most_informative_features(5)\n",
    "\n"
   ]
  },
  {
   "attachments": {},
   "cell_type": "markdown",
   "metadata": {},
   "source": [
    "##### <p style=\"font-family:JetBrains Mono; text-align:right; padding-right: 10%;\">[Top Of Page](#lighthouse-labs-mini-project-v-identifying-duplicate-questions) / [TOC](#table-of-contents)</p>\n"
   ]
  },
  {
   "attachments": {},
   "cell_type": "markdown",
   "metadata": {},
   "source": [
    "## <p style=\"font-family:JetBrains Mono; font-weight:normal; letter-spacing: 1px; color:#207d06; font-size:100%; text-align:left;padding: 0px; border-bottom: 3px solid #207d06;\">MODELING</p>\n",
    "\n",
    "\n",
    "Different modeling techniques can be used:\n",
    "\n",
    "- logistic regression\n",
    "- XGBoost\n",
    "- LSTMs\n",
    "- etc"
   ]
  },
  {
   "attachments": {},
   "cell_type": "markdown",
   "metadata": {},
   "source": [
    "##### <p style=\"font-family:JetBrains Mono; text-align:right; padding-right: 10%;\">[Top Of Page](#lighthouse-labs-mini-project-v-identifying-duplicate-questions) / [TOC](#table-of-contents)</p>\n"
   ]
  },
  {
   "attachments": {},
   "cell_type": "markdown",
   "metadata": {},
   "source": [
    "### <p style=\"font-family:JetBrains Mono; font-weight:normal; letter-spacing: 1px; color:#8fca6b; font-size:100%; text-align:left;padding: 0px; border-bottom: 2px solid #8fca6b;\">SPLITTING DATA</p>\n"
   ]
  },
  {
   "attachments": {},
   "cell_type": "markdown",
   "metadata": {},
   "source": [
    "[W9D2m4](../../../Documents/LHL%20DS%20Bootcamp/Course%20work/W9/W9D2m4_kaggle_sentiment-analysis-airline-tweets.ipynb)"
   ]
  },
  {
   "cell_type": "code",
   "execution_count": null,
   "metadata": {},
   "outputs": [],
   "source": [
    "from sklearn.model_selection import train_test_split\n",
    "\n",
    "X_train, X_test, y_train, y_test = train_test_split(\n",
    "                                          clean_text\n",
    "                                        , labels\n",
    "                                        , test_size = 0.2\n",
    "                                        , random_state = 0\n",
    "                                    )"
   ]
  },
  {
   "attachments": {},
   "cell_type": "markdown",
   "metadata": {},
   "source": [
    "##### <p style=\"font-family:JetBrains Mono; text-align:right; padding-right: 10%;\">[Top Of Page](#lighthouse-labs-mini-project-v-identifying-duplicate-questions) / [TOC](#table-of-contents)</p>\n"
   ]
  },
  {
   "attachments": {},
   "cell_type": "markdown",
   "metadata": {},
   "source": [
    "### <p style=\"font-family:JetBrains Mono; font-weight:normal; letter-spacing: 1px; color:#8fca6b; font-size:100%; text-align:left;padding: 0px; border-bottom: 2px solid #8fca6b;\">MODEL TRAINING</p>\n",
    "\n",
    "The sklearn.ensemble module contains the RandomForestClassifier class that can be used to train the machine learning model using the random forest algorithm."
   ]
  },
  {
   "cell_type": "code",
   "execution_count": null,
   "metadata": {},
   "outputs": [],
   "source": [
    "import nlp_data_prep as nlp\n",
    "\n",
    "clean_text = nlp.text_cleaning_regex(features)\n",
    "clean_text[:6]"
   ]
  },
  {
   "cell_type": "code",
   "execution_count": null,
   "metadata": {},
   "outputs": [],
   "source": [
    "vectorize = TfidfVectorizer (\n",
    "      max_features = 2500\n",
    "    , min_df = 7\n",
    "    , max_df = 0.8\n",
    "    , stop_words = stopwords.words('english')\n",
    ")"
   ]
  },
  {
   "cell_type": "code",
   "execution_count": null,
   "metadata": {},
   "outputs": [],
   "source": [
    "# Parameter Optimization:\n",
    "TfidfVectorizer.set_params(self=vectorize)\n",
    "\n",
    "\n",
    "\n",
    "\n",
    "\n",
    "\n",
    "\n",
    "????"
   ]
  },
  {
   "cell_type": "code",
   "execution_count": null,
   "metadata": {},
   "outputs": [],
   "source": [
    "# Transform features with vectorizer. \n",
    "clean_text = vectorize.fit_transform(clean_text).toarray()\n",
    "clean_text.shape"
   ]
  },
  {
   "cell_type": "code",
   "execution_count": null,
   "metadata": {},
   "outputs": [],
   "source": [
    "# Import train_test_split from sklearn and split the data.\n",
    "from sklearn.ensemble import RandomForestClassifier as rfc\n",
    "\n",
    "text_classifier = rfc(\n",
    "      n_estimators = 200\n",
    "    , random_state = 0\n",
    ")\n",
    "text_classifier.fit(X_train, y_train)"
   ]
  },
  {
   "attachments": {},
   "cell_type": "markdown",
   "metadata": {},
   "source": [
    "Making predictions and evaluating the Model"
   ]
  },
  {
   "cell_type": "code",
   "execution_count": null,
   "metadata": {},
   "outputs": [],
   "source": [
    "predicted_X_test = text_classifier.predict(X_test)                                                                         "
   ]
  },
  {
   "attachments": {},
   "cell_type": "markdown",
   "metadata": {},
   "source": [
    "To find the values for these metrics, we can use utilities from the `sklearn.metrics` library\n",
    "- `classification_report`,\n",
    "- `confusion_matrix`, and \n",
    "- `accuracy_score` "
   ]
  },
  {
   "cell_type": "code",
   "execution_count": null,
   "metadata": {},
   "outputs": [],
   "source": [
    "from sklearn.metrics import (\n",
    "      classification_report\n",
    "    , confusion_matrix\n",
    "    , accuracy_score\n",
    ")"
   ]
  },
  {
   "cell_type": "code",
   "execution_count": null,
   "metadata": {},
   "outputs": [],
   "source": [
    "print(f' confusion_matrix:\\n------------------------\\n{confusion_matrix(y_test, predicted_X_test)}\\n\\n')\n",
    "print(f' classification_report:\\n------------------------\\n{classification_report(y_test, predicted_X_test)}\\n\\n')\n",
    "print(f' accuracy_score:\\n------------------------\\n{accuracy_score(y_test, predicted_X_test)}\\n\\n')"
   ]
  },
  {
   "attachments": {},
   "cell_type": "markdown",
   "metadata": {},
   "source": [
    "# [W9D2m7](../../../Documents/LHL%20DS%20Bootcamp/Course%20work/W9/W9D2m7_topic_modeling.ipynb)"
   ]
  },
  {
   "cell_type": "code",
   "execution_count": null,
   "metadata": {},
   "outputs": [],
   "source": []
  },
  {
   "attachments": {},
   "cell_type": "markdown",
   "metadata": {},
   "source": [
    "##### <p style=\"font-family:JetBrains Mono; text-align:right; padding-right: 10%;\">[Top Of Page](#lighthouse-labs-mini-project-v-identifying-duplicate-questions) / [TOC](#table-of-contents)</p>\n"
   ]
  },
  {
   "attachments": {},
   "cell_type": "markdown",
   "metadata": {},
   "source": [
    "### <p style=\"font-family:JetBrains Mono; font-weight:normal; letter-spacing: 1px; color:#8fca6b; font-size:100%; text-align:left;padding: 0px; border-bottom: 2px solid #8fca6b;\">MODEL EVALUATION</p>"
   ]
  },
  {
   "attachments": {},
   "cell_type": "markdown",
   "metadata": {},
   "source": [
    "##### <p style=\"font-family:JetBrains Mono; text-align:right; padding-right: 10%;\">[Top Of Page](#lighthouse-labs-mini-project-v-identifying-duplicate-questions) / [TOC](#table-of-contents)</p>\n"
   ]
  },
  {
   "attachments": {},
   "cell_type": "markdown",
   "metadata": {},
   "source": [
    "### <p style=\"font-family:JetBrains Mono; font-weight:normal; letter-spacing: 1px; color:#8fca6b; font-size:100%; text-align:left;padding: 0px; border-bottom: 2px solid #8fca6b;\">TUNE HYPERPARAMETERS</p>"
   ]
  },
  {
   "cell_type": "markdown",
   "metadata": {},
   "source": [
    "##### <p style=\"font-family:JetBrains Mono; text-align:right; padding-right: 10%;\">[Top Of Page](#lighthouse-labs-mini-project-v-identifying-duplicate-questions) / [TOC](#table-of-contents)</p>\n"
   ]
  },
  {
   "attachments": {},
   "cell_type": "markdown",
   "metadata": {},
   "source": [
    "## <p style=\"font-family:JetBrains Mono; font-weight:normal; letter-spacing: 1px; color:#207d06; font-size:100%; text-align:left;padding: 0px; border-bottom: 3px solid #207d06;\">RESULTS</p>"
   ]
  },
  {
   "attachments": {},
   "cell_type": "markdown",
   "metadata": {},
   "source": [
    "##### <p style=\"font-family:JetBrains Mono; text-align:right; padding-right: 10%;\">[Top Of Page](#lighthouse-labs-mini-project-v-identifying-duplicate-questions) / [TOC](#table-of-contents)</p>"
   ]
  },
  {
   "attachments": {},
   "cell_type": "markdown",
   "metadata": {},
   "source": [
    "## <p style=\"font-family:JetBrains Mono; font-weight:normal; letter-spacing: 1px; color:#207d06; font-size:100%; text-align:left;padding: 0px; border-bottom: 3px solid #207d06;\">DISCUSSION</p>\n"
   ]
  },
  {
   "attachments": {},
   "cell_type": "markdown",
   "metadata": {},
   "source": [
    "##### <p style=\"font-family:JetBrains Mono; text-align:right; padding-right: 10%;\">[Top Of Page](#lighthouse-labs-mini-project-v-identifying-duplicate-questions) / [TOC](#table-of-contents)</p>"
   ]
  },
  {
   "attachments": {},
   "cell_type": "markdown",
   "metadata": {},
   "source": [
    "## <p style=\"font-family:JetBrains Mono; font-weight:normal; letter-spacing: 1px; color:#207d06; font-size:100%; text-align:left;padding: 0px; border-bottom: 3px solid #207d06;\">REFERENCES</p>\n"
   ]
  },
  {
   "attachments": {},
   "cell_type": "markdown",
   "metadata": {},
   "source": [
    "[W9D1m4]('../../../../../Documents/LHL%20DS%20Bootcamp/Course%20work/W9/W9D1m4_data_prep_NLP.ipynb)    \n",
    "[W9D1m5]('../../../../../Documents/LHL%20DS%20Bootcamp/Course%20work/W9/W9D1m5_NLP_data_preparation_exercise.ipynb)\n",
    "- [refrences](https://www.datacamp.com/tutorial/simplifying-sentiment-analysis-python)  \n",
    "\n",
    "[W9D1m8L]('../../../../../Documents/LHL%20DS%20Bootcamp/Course%20work/W9/W9D1L_NLP-Pre-Processing_Vectorizing.ipynb')  \n",
    "[W9D1m8]('../../../../../Documents/LHL%20DS%20Bootcamp/Course%20work/W9/W9D1m8_representations_bag_of_words.ipynb)  \n",
    "[W9D1m10]('../../../../../Documents/LHL%20DS%20Bootcamp/Course%20work/W9/W9D1m10_word2vec_from_google.ipynb)  \n",
    "[W9D1m12]('../../../../../Documents/LHL%20DS%20Bootcamp/Course%20work/W9/W9D1m12_NLP_representations_exercise.ipynb')  \n",
    "[W9D2m2](../../../../../Documents/LHL%20DS%20Bootcamp/Course%20work/W9/W9D2m2_sentiment_analysis.ipynb)  \n",
    "[W9D2m4](../../../Documents/LHL%20DS%20Bootcamp/Course%20work/W9/W9D2m4_kaggle_sentiment-analysis-airline-tweets.ipynb)  \n",
    "[W9D2m7](../../../Documents/LHL%20DS%20Bootcamp/Course%20work/W9/W9D2m7_topic_modeling.ipynb)  "
   ]
  },
  {
   "cell_type": "markdown",
   "metadata": {},
   "source": []
  }
 ],
 "metadata": {
  "kernelspec": {
   "display_name": "base_env",
   "language": "python",
   "name": "python3"
  },
  "language_info": {
   "codemirror_mode": {
    "name": "ipython",
    "version": 3
   },
   "file_extension": ".py",
   "mimetype": "text/x-python",
   "name": "python",
   "nbconvert_exporter": "python",
   "pygments_lexer": "ipython3",
   "version": "3.10.8 | packaged by conda-forge | (main, Nov 22 2022, 08:25:29) [Clang 14.0.6 ]"
  },
  "vscode": {
   "interpreter": {
    "hash": "39512f3c2a1741d7f752d45a133d4514127029333ea14bc2f3c6c5e6759b9029"
   }
  }
 },
 "nbformat": 4,
 "nbformat_minor": 4
}
